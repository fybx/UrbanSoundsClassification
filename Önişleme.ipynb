{
 "cells": [
  {
   "cell_type": "markdown",
   "id": "39dabbcc-7afe-4efc-b9d7-a7d1d408d1e7",
   "metadata": {
    "id": "39dabbcc-7afe-4efc-b9d7-a7d1d408d1e7"
   },
   "source": [
    "# UrbanSoundsClassification: AIYard"
   ]
  },
  {
   "cell_type": "markdown",
   "id": "0731edc4-d9da-46c8-a709-3b196e98da2d",
   "metadata": {
    "id": "0731edc4-d9da-46c8-a709-3b196e98da2d",
    "tags": []
   },
   "source": [
    "Önişleme.ipynb\n",
    "\n",
    "AIYard ekibi"
   ]
  },
  {
   "cell_type": "markdown",
   "id": "92457d2c-aa3c-4dce-a3c6-fd718a6c48c9",
   "metadata": {
    "id": "92457d2c-aa3c-4dce-a3c6-fd718a6c48c9"
   },
   "source": [
    "### 1. Kütüphanelerin içe aktarımı"
   ]
  },
  {
   "cell_type": "code",
   "execution_count": 2,
   "id": "8c12f829-b1a2-4f69-8f54-7dc5e605d049",
   "metadata": {
    "id": "8c12f829-b1a2-4f69-8f54-7dc5e605d049"
   },
   "outputs": [],
   "source": [
    "import cv2 as cv\n",
    "import os\n",
    "import pandas as pd\n",
    "import numpy as np\n",
    "from matplotlib import pyplot as plt\n",
    "from random import shuffle"
   ]
  },
  {
   "cell_type": "markdown",
   "id": "aca15997-18ce-4902-b0bc-69f3ff122b21",
   "metadata": {
    "id": "aca15997-18ce-4902-b0bc-69f3ff122b21",
    "tags": []
   },
   "source": [
    "### 2. Spektrogramların okunması ve işlenmesi\n",
    "Google Colaboratory'de spektrogram verilerini okuyup önişlemeye tabi tutarken hafıza limitini aştığımız için sıkıntı yaşadık.\n",
    "\n",
    "Bunun önüne geçmek için spektrogramları verilen Drive linkinden indirdik ve lokal cihazlarımızda önişlemeye tabi tuttuk.\n",
    "\n",
    "`spectrogram_folder` kısmına lokal cihazınızdaki (ya da Google Drive hesabınızdaki) spektrogram klasörünün yolunu verin."
   ]
  },
  {
   "cell_type": "markdown",
   "id": "NF0lgLU5kKpL",
   "metadata": {
    "id": "NF0lgLU5kKpL"
   },
   "source": [
    "#### 2.1. Google Colab ortamında spektrogramların elde edilmesi\n",
    "\n",
    "Önişlemeyi yapmak Colaboratory'de yapmak ve sonucunda elde edilen `preproc` klasörünü Google Drive'a kaydetmek için bu kısmı çalıştırın."
   ]
  },
  {
   "cell_type": "code",
   "execution_count": 2,
   "id": "BP9of1Dukd2_",
   "metadata": {
    "colab": {
     "base_uri": "https://localhost:8080/"
    },
    "id": "BP9of1Dukd2_",
    "outputId": "3a55aa10-142a-4ecd-98ff-e0048c78ce88"
   },
   "outputs": [
    {
     "name": "stdout",
     "output_type": "stream",
     "text": [
      "Mounted at /content/GDrive/\n"
     ]
    }
   ],
   "source": [
    "from google.colab import drive\n",
    "drive.mount('/content/GDrive/')"
   ]
  },
  {
   "cell_type": "markdown",
   "id": "1VtJpA05pT6Z",
   "metadata": {
    "id": "1VtJpA05pT6Z"
   },
   "source": [
    "#### 2.2. Okuma ve önişleme"
   ]
  },
  {
   "cell_type": "code",
   "execution_count": 3,
   "id": "a3786081-bc12-402c-9d44-681da9d714b6",
   "metadata": {
    "id": "a3786081-bc12-402c-9d44-681da9d714b6"
   },
   "outputs": [],
   "source": [
    "data = [] # Okunan spektrogramları ve sınıflarının demetlerini tutacağımız liste\n",
    "# /content/GDrive/MyDrive/spectrograms/\n",
    "# /home/ferit/repos/UrbanSoundsClassification/spectrograms/\n",
    "spectrogram_folder = \"/home/ferit/repos/UrbanSoundsClassification/spectrograms/\" # Spektrogram klasörünün yolu\n",
    "img_size = 64 # Spektrogramların küçültülecekleri boyut\n",
    "\n",
    "for path, subdirs, files in os.walk(spectrogram_folder):\n",
    "    for name in files:\n",
    "        file = os.path.join(path, name)\n",
    "        spectrogram = cv.imread(file, 0) # Dosyayı grayscale olacak şekilde açmak için 0 pozisyonel argümanını veriyoruz\n",
    "        spectrogram = cv.resize(spectrogram, (img_size, img_size), interpolation=cv.INTER_LINEAR) # Görüntüyü bilineer interpolasyonla küçültüyoruz \n",
    "        spectrogram = spectrogram.astype(\"float64\") # Normalizasyonda yüksek doğruluklu ondalıklı sayılar elde etmek için matris veri tipini float64 olarak değiştiriyoruz \n",
    "        spectrogram /= 255 # Piksel değerleri maksimum 255 olacağı için tüm hücreleri 255'e bölerek değerleri 0 ile 1 arasına çekiyoruz\n",
    "        data.append((spectrogram, int(file.split('/')[-2]))) # data listesine spektrogram ve sınıfı içeren demeti ekliyoruz"
   ]
  },
  {
   "cell_type": "code",
   "execution_count": 4,
   "id": "90952bd6-87f9-40bb-9875-3546a66dade9",
   "metadata": {
    "colab": {
     "base_uri": "https://localhost:8080/"
    },
    "id": "90952bd6-87f9-40bb-9875-3546a66dade9",
    "outputId": "84c9faba-864d-4eef-aa1c-12efa8d306d1"
   },
   "outputs": [
    {
     "name": "stdout",
     "output_type": "stream",
     "text": [
      "8732\n"
     ]
    }
   ],
   "source": [
    "print(len(data)) # Toplam (spektrogram, sınıf) demet sayısı 8732 olmalı"
   ]
  },
  {
   "cell_type": "markdown",
   "id": "58958dad-3988-4763-b0ec-d5682cfca8be",
   "metadata": {
    "id": "58958dad-3988-4763-b0ec-d5682cfca8be",
    "tags": []
   },
   "source": [
    "### 3. \"data\" listesindeki demetleri rastgele karıştırıyoruz"
   ]
  },
  {
   "cell_type": "code",
   "execution_count": 5,
   "id": "1cf318f8-a271-4fbf-aa9d-3d5dc841eb67",
   "metadata": {
    "colab": {
     "base_uri": "https://localhost:8080/"
    },
    "id": "1cf318f8-a271-4fbf-aa9d-3d5dc841eb67",
    "outputId": "78d973ba-5625-4d5f-b9b0-1da7244d68a5"
   },
   "outputs": [
    {
     "name": "stdout",
     "output_type": "stream",
     "text": [
      "Shuffle öncesi ilk elemanın sınıfı: 2\n",
      "Shuffle sonrası ilk elemanın sınıfı: 7\n"
     ]
    }
   ],
   "source": [
    "print(f\"Shuffle öncesi ilk elemanın sınıfı: {data[0][1]}\")\n",
    "shuffle(data)\n",
    "print(f\"Shuffle sonrası ilk elemanın sınıfı: {data[0][1]}\")"
   ]
  },
  {
   "cell_type": "markdown",
   "id": "74eb1209-fe33-4086-a7cd-9c2120235fd6",
   "metadata": {
    "id": "74eb1209-fe33-4086-a7cd-9c2120235fd6",
    "tags": []
   },
   "source": [
    "### 4. Önişlenen görselleri preproc/set/spec-count-class.npy formatında kaydediyoruz\n",
    "Modeli eğitmek için kullanılacak veriyi Model.ipynb dosyasında tekrardan elde etmeyi kolaylaştırmak için çıktı klasörü preproc'un altında\n",
    "\n",
    "- train\n",
    "- val\n",
    "- test\n",
    "\n",
    "klasörleri oluşturuyor ve spektrogramları \"spec-numara-sınıf_sayısı.npy\" formatında kaydediyoruz."
   ]
  },
  {
   "cell_type": "code",
   "execution_count": 6,
   "id": "5ffa3af8-3579-4acf-a6d0-a9545d85fe09",
   "metadata": {
    "id": "5ffa3af8-3579-4acf-a6d0-a9545d85fe09"
   },
   "outputs": [],
   "source": [
    "X_train = list(zip(*data[0:6900]))[0]\n",
    "Y_train = list(zip(*data[0:6900]))[1]\n",
    "X_val = list(zip(*data[6900:7800]))[0]\n",
    "Y_val = list(zip(*data[6900:7800]))[1]\n",
    "X_test = list(zip(*data[7800:8732]))[0]\n",
    "Y_test = list(zip(*data[7800:8732]))[1]"
   ]
  },
  {
   "cell_type": "code",
   "execution_count": 7,
   "id": "1365c62d-f3f8-47db-af9c-11df963eca4f",
   "metadata": {
    "id": "1365c62d-f3f8-47db-af9c-11df963eca4f"
   },
   "outputs": [],
   "source": [
    "try:\n",
    "    os.mkdir(\"preproc\")\n",
    "    os.mkdir(\"preproc/train\")\n",
    "    os.mkdir(\"preproc/val\")\n",
    "    os.mkdir(\"preproc/test\")\n",
    "except FileExistsError:\n",
    "    print(\"Klasör zaten oluşturulmuş\")"
   ]
  },
  {
   "cell_type": "markdown",
   "id": "c9cf4992-9414-4615-9882-d0c9e290ccc1",
   "metadata": {
    "id": "c9cf4992-9414-4615-9882-d0c9e290ccc1"
   },
   "source": [
    "#### 4.1. Train verilerini kaydet"
   ]
  },
  {
   "cell_type": "code",
   "execution_count": 8,
   "id": "a4751689-f7fa-4889-a382-29d3c44d3b58",
   "metadata": {
    "id": "a4751689-f7fa-4889-a382-29d3c44d3b58"
   },
   "outputs": [],
   "source": [
    "index = 0\n",
    "for spectrogram in X_train:\n",
    "    np.save(f\"preproc/train/spec-{index}-{Y_train[index]}.npy\", spectrogram)\n",
    "    index += 1"
   ]
  },
  {
   "cell_type": "markdown",
   "id": "f7da485f-771a-4ea2-9b64-2bc7ef1505d4",
   "metadata": {
    "id": "f7da485f-771a-4ea2-9b64-2bc7ef1505d4"
   },
   "source": [
    "#### 4.2. Validasyon verilerini kaydet"
   ]
  },
  {
   "cell_type": "code",
   "execution_count": 9,
   "id": "e0ef86ef-315d-4a5b-8710-7634049db775",
   "metadata": {
    "id": "e0ef86ef-315d-4a5b-8710-7634049db775"
   },
   "outputs": [],
   "source": [
    "index = 0\n",
    "for spectrogram in X_val:\n",
    "    np.save(f\"preproc/val/spec-{index}-{Y_val[index]}.npy\", spectrogram)\n",
    "    index += 1"
   ]
  },
  {
   "cell_type": "markdown",
   "id": "f48341a2-4917-4630-9b88-3a86ff652985",
   "metadata": {
    "id": "f48341a2-4917-4630-9b88-3a86ff652985"
   },
   "source": [
    "#### 4.3. Test verilerini kaydet"
   ]
  },
  {
   "cell_type": "code",
   "execution_count": 10,
   "id": "83c042f8-2c64-40e2-8d09-a756400508b9",
   "metadata": {
    "id": "83c042f8-2c64-40e2-8d09-a756400508b9"
   },
   "outputs": [],
   "source": [
    "index = 0\n",
    "for spectrogram in X_test:\n",
    "    np.save(f\"preproc/test/spec-{index}-{Y_test[index]}.npy\", spectrogram)\n",
    "    index += 1"
   ]
  },
  {
   "cell_type": "markdown",
   "id": "5lAW0fYUwFZT",
   "metadata": {
    "id": "5lAW0fYUwFZT"
   },
   "source": [
    "#### 4.4. Google Colab'de elde edilen `preproc` klasörünü Drive'a kopyala\n",
    "\n",
    "Eğer çalışmayı Google Colab'de yapıyorsanız Model dosyasına verileri aktarabilmek için Google Drive kopyalamanız gerekecek."
   ]
  },
  {
   "cell_type": "code",
   "execution_count": 12,
   "id": "2WJeVBcQvTIc",
   "metadata": {
    "id": "2WJeVBcQvTIc"
   },
   "outputs": [],
   "source": [
    "!cp -r /content/preproc /content/GDrive/MyDrive/"
   ]
  },
  {
   "cell_type": "markdown",
   "id": "3c8b012d-ca74-47e4-a518-4d68e80e1ca8",
   "metadata": {
    "id": "3c8b012d-ca74-47e4-a518-4d68e80e1ca8"
   },
   "source": [
    "### 5. Sonuç\n",
    "Bütün hücreleri doğru girişleri sağlayarak (lokale indirilmiş spektrogram klasörü) çalıştırdığımızda repository kökünde `preproc` klasörü altında 3 klasör meydana gelmeli.\n",
    "\n",
    "Bu klasörler:\n",
    "- train (6900 adet spektrogram)\n",
    "- val (900 adet spektrogram)\n",
    "- test (932 adet spektrogram)\n",
    "biçiminde olacaklar. Her klasör isim formatı `spec-dosya_numarası-sınıf_numarası.npy` biçiminde olan spektrogram dosyalarının NumPy array formatında kaydedilmiş versiyonunu içerecek.\n",
    "\n",
    "Model.ipynb dosyasında klasörler sırası ile okunurken ismin `sınıf_numarası` kısmı ile spektrogramlar ile sınıfları eşlenerek demetlere kaydedilerek kullanılacak."
   ]
  }
 ],
 "metadata": {
  "accelerator": "GPU",
  "colab": {
   "provenance": []
  },
  "kernelspec": {
   "display_name": "Python 3 (ipykernel)",
   "language": "python",
   "name": "python3"
  },
  "language_info": {
   "codemirror_mode": {
    "name": "ipython",
    "version": 3
   },
   "file_extension": ".py",
   "mimetype": "text/x-python",
   "name": "python",
   "nbconvert_exporter": "python",
   "pygments_lexer": "ipython3",
   "version": "3.10.7"
  }
 },
 "nbformat": 4,
 "nbformat_minor": 5
}
