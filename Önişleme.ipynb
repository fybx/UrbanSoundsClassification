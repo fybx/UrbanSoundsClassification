{
 "cells": [
  {
   "cell_type": "markdown",
   "id": "39dabbcc-7afe-4efc-b9d7-a7d1d408d1e7",
   "metadata": {},
   "source": [
    "# UrbanSoundsClassification: AIYard"
   ]
  },
  {
   "cell_type": "markdown",
   "id": "0731edc4-d9da-46c8-a709-3b196e98da2d",
   "metadata": {
    "tags": []
   },
   "source": [
    "Önişleme.ipynb\n",
    "\n",
    "AIYard ekibi"
   ]
  },
  {
   "cell_type": "markdown",
   "id": "92457d2c-aa3c-4dce-a3c6-fd718a6c48c9",
   "metadata": {},
   "source": [
    "### Kütüphanelerin içe aktarımı"
   ]
  },
  {
   "cell_type": "code",
   "execution_count": 1,
   "id": "8c12f829-b1a2-4f69-8f54-7dc5e605d049",
   "metadata": {},
   "outputs": [],
   "source": [
    "import cv2 as cv\n",
    "import os\n",
    "import pandas as pd\n",
    "import numpy as np"
   ]
  },
  {
   "cell_type": "markdown",
   "id": "aca15997-18ce-4902-b0bc-69f3ff122b21",
   "metadata": {},
   "source": [
    "### Spektrogramların okunması\n",
    "Google Colaboratory'de spektrogram verilerini okuyup önişlemeye tabi tutarken hafıza limitini aştığımız için sıkıntı yaşadık.\n",
    "\n",
    "Bunun önüne geçmek için spektrogramları verilen Drive linkinden indirdik ve lokal cihazlarımızda önişlemeye tabi tuttuk.\n",
    "\n",
    "Alttaki kodda yapılacak tek değişiklik walk() metoduna verilecek olan klasörün yoludur."
   ]
  },
  {
   "cell_type": "code",
   "execution_count": 2,
   "id": "a3786081-bc12-402c-9d44-681da9d714b6",
   "metadata": {},
   "outputs": [],
   "source": [
    "X = [] # Okunan spektrogram matrislerini tuttuğumuz liste\n",
    "Y = [] # Okunan spektrogramların sınıflarını tuttuğumuz liste\n",
    "img_size = 64 # Spektrogramların küçültülecekleri boyut\n",
    "\n",
    "for path, subdirs, files in os.walk(\"/home/ferit/repos/UrbanSoundsClassification/spectrograms/\"):\n",
    "    for name in files:\n",
    "        file = os.path.join(path, name)\n",
    "        spectrogram = cv.imread(file, 0) # Dosyayı grayscale olacak şekilde açmak için 0 pozisyonel argümanını veriyoruz\n",
    "        spectrogram = cv.resize(spectrogram, (img_size, img_size), interpolation=cv.INTER_LINEAR) # Görüntüyü bilineer interpolasyonla küçültüyoruz \n",
    "        spectrogram = spectrogram.astype(\"float64\") # Normalizasyonda yüksek doğruluklu ondalıklı sayılar elde etmek için matris veri tipini float64 olarak değiştiriyoruz \n",
    "        spectrogram /= 255 # Piksel değerleri maksimum 255 olacağı için tüm hücreleri 255'e bölerek değerleri 0 ile 1 arasına çekiyoruz\n",
    "        X.append(spectrogram) # X listesine spektrogramı ekliyoruz\n",
    "        Y.append(int(file.split('/')[6])) # Y listesine spektrogramın sınıfını ekliyoruz"
   ]
  },
  {
   "cell_type": "code",
   "execution_count": 3,
   "id": "90952bd6-87f9-40bb-9875-3546a66dade9",
   "metadata": {},
   "outputs": [
    {
     "name": "stdout",
     "output_type": "stream",
     "text": [
      "8735\n",
      "8735\n"
     ]
    }
   ],
   "source": [
    "print(len(X))\n",
    "print(len(Y))"
   ]
  },
  {
   "cell_type": "code",
   "execution_count": 4,
   "id": "5ffa3af8-3579-4acf-a6d0-a9545d85fe09",
   "metadata": {},
   "outputs": [],
   "source": [
    "X_train = X[0:6900]"
   ]
  },
  {
   "cell_type": "code",
   "execution_count": 5,
   "id": "2e37681e-8809-495c-b065-ee64e8c586c4",
   "metadata": {},
   "outputs": [],
   "source": [
    "Y_train = Y[0:6900]"
   ]
  },
  {
   "cell_type": "code",
   "execution_count": 6,
   "id": "e2a1ecb0-f6a9-450a-88ae-94202f0e9e00",
   "metadata": {},
   "outputs": [],
   "source": [
    "train = pd.DataFrame()\n",
    "train[\"X_train\"] = X_train\n",
    "train[\"Y_train\"] = Y_train\n",
    "train.to_csv(\"train.csv\")"
   ]
  },
  {
   "cell_type": "code",
   "execution_count": 7,
   "id": "90c02ee1-4ca1-490a-9cf4-1e5601196e58",
   "metadata": {},
   "outputs": [],
   "source": [
    "X_val = X[6900:7800]\n",
    "Y_val = Y[6900:7800]"
   ]
  },
  {
   "cell_type": "code",
   "execution_count": 8,
   "id": "19c5adaf-d026-45d3-8607-c35099aac227",
   "metadata": {},
   "outputs": [],
   "source": [
    "validation = pd.DataFrame()\n",
    "validation[\"X_val\"] = X_val\n",
    "validation[\"Y_val\"] = Y_val\n",
    "validation.to_csv(\"validation.csv\")"
   ]
  },
  {
   "cell_type": "code",
   "execution_count": 9,
   "id": "622b8f2b-8169-4dee-88b0-6fce26083931",
   "metadata": {},
   "outputs": [],
   "source": [
    "X_test = X[7800:8735]\n",
    "Y_test = Y[7800:8735]"
   ]
  },
  {
   "cell_type": "code",
   "execution_count": 10,
   "id": "2d2502ad-ae6f-4e2b-9844-e8fdee802125",
   "metadata": {},
   "outputs": [],
   "source": [
    "test = pd.DataFrame()\n",
    "test[\"X_test\"] = X_test\n",
    "test[\"Y_test\"] = Y_test\n",
    "test.to_csv(\"test.csv\")"
   ]
  }
 ],
 "metadata": {
  "kernelspec": {
   "display_name": "Python 3 (ipykernel)",
   "language": "python",
   "name": "python3"
  },
  "language_info": {
   "codemirror_mode": {
    "name": "ipython",
    "version": 3
   },
   "file_extension": ".py",
   "mimetype": "text/x-python",
   "name": "python",
   "nbconvert_exporter": "python",
   "pygments_lexer": "ipython3",
   "version": "3.10.7"
  }
 },
 "nbformat": 4,
 "nbformat_minor": 5
}
