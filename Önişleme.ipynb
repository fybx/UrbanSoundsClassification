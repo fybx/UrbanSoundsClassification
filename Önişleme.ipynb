{
 "cells": [
  {
   "cell_type": "markdown",
   "id": "39dabbcc-7afe-4efc-b9d7-a7d1d408d1e7",
   "metadata": {},
   "source": [
    "# UrbanSoundsClassification: AIYard"
   ]
  },
  {
   "cell_type": "markdown",
   "id": "0731edc4-d9da-46c8-a709-3b196e98da2d",
   "metadata": {
    "tags": []
   },
   "source": [
    "Önişleme.ipynb\n",
    "\n",
    "Ferit Yiğit BALABAN"
   ]
  },
  {
   "cell_type": "code",
   "execution_count": null,
   "id": "8c12f829-b1a2-4f69-8f54-7dc5e605d049",
   "metadata": {},
   "outputs": [],
   "source": []
  }
 ],
 "metadata": {
  "kernelspec": {
   "display_name": "Python 3 (ipykernel)",
   "language": "python",
   "name": "python3"
  },
  "language_info": {
   "codemirror_mode": {
    "name": "ipython",
    "version": 3
   },
   "file_extension": ".py",
   "mimetype": "text/x-python",
   "name": "python",
   "nbconvert_exporter": "python",
   "pygments_lexer": "ipython3",
   "version": "3.10.7"
  }
 },
 "nbformat": 4,
 "nbformat_minor": 5
}
