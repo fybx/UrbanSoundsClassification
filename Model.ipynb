{
  "cells": [
    {
      "cell_type": "markdown",
      "id": "ad51450c-0fe2-44ef-8f9f-fef82e787008",
      "metadata": {
        "id": "ad51450c-0fe2-44ef-8f9f-fef82e787008"
      },
      "source": [
        "# UrbanSoundsClassification: AIYard"
      ]
    },
    {
      "cell_type": "markdown",
      "id": "b18c64d4-1bc2-4bf0-8b4a-2913126e13b5",
      "metadata": {
        "id": "b18c64d4-1bc2-4bf0-8b4a-2913126e13b5"
      },
      "source": [
        "Model.ipynb\n",
        "\n",
        "AIYard ekibi"
      ]
    },
    {
      "cell_type": "markdown",
      "id": "6451718f-3746-4b1b-bc66-71e36170ed89",
      "metadata": {
        "tags": [],
        "id": "6451718f-3746-4b1b-bc66-71e36170ed89"
      },
      "source": [
        "### 1. Kütüphanelerin içe aktarılması"
      ]
    },
    {
      "cell_type": "code",
      "execution_count": 90,
      "id": "a108dced-d4d0-4cc0-a0f7-53faa957d722",
      "metadata": {
        "id": "a108dced-d4d0-4cc0-a0f7-53faa957d722"
      },
      "outputs": [],
      "source": [
        "import os\n",
        "import numpy as np\n",
        "import tensorflow as tf\n",
        "from matplotlib import pyplot as plt\n",
        "from sklearn.metrics import confusion_matrix\n",
        "import seaborn as sn"
      ]
    },
    {
      "cell_type": "markdown",
      "id": "b62efad5-e776-496b-8aed-59b8ec53f246",
      "metadata": {
        "jp-MarkdownHeadingCollapsed": true,
        "tags": [],
        "id": "b62efad5-e776-496b-8aed-59b8ec53f246"
      },
      "source": [
        "### 2. Önişlenmiş verisetlerinin içe aktarılması\n",
        "Önişleme defterini kullanarak `preproc` klasörü altında oluşturduğumuz `train`, `val` ve `test` klasörlerindeki spektrogramları okuyup demetler halinde kaydederek başlıyoruz.\n",
        "\n",
        "Google Colab ortamında isek Google Drive'ı mount ettikten sonra `preproc` klasörüne giden yolu tutan `preproc_folder`'ı değiştirmeliyiz."
      ]
    },
    {
      "cell_type": "code",
      "source": [
        "from google.colab import drive\n",
        "drive.mount('/content/GDrive/')"
      ],
      "metadata": {
        "id": "iy-GMx0Cqw1R",
        "outputId": "0323eb77-85b9-42af-8d52-f606be73d16d",
        "colab": {
          "base_uri": "https://localhost:8080/"
        }
      },
      "id": "iy-GMx0Cqw1R",
      "execution_count": 3,
      "outputs": [
        {
          "output_type": "stream",
          "name": "stdout",
          "text": [
            "Mounted at /content/GDrive/\n"
          ]
        }
      ]
    },
    {
      "cell_type": "markdown",
      "source": [
        "Lokal cihazımda önişleyip shuffle ederek oluşturduğum spektrogramlara https://drive.google.com/file/d/133_6nrhE7261WkFMjbHxAQSGWa7z0Mmq/view?usp=sharing linkinden erişebilirsiniz. Burada Google Drive'dan session hafızasına alıp untar ediyoruz ve `preproc_folder` değişkenine `/content/preproc/` yolunu veriyoruz. "
      ],
      "metadata": {
        "id": "ANGClJSBBkSZ"
      },
      "id": "ANGClJSBBkSZ"
    },
    {
      "cell_type": "code",
      "source": [
        "!cp /content/GDrive/MyDrive/preproc.tar /content\n",
        "!tar -xf preproc.tar"
      ],
      "metadata": {
        "id": "v7Sed-3oA_9P"
      },
      "id": "v7Sed-3oA_9P",
      "execution_count": 62,
      "outputs": []
    },
    {
      "cell_type": "code",
      "source": [
        "# DİKKAT: Yolun sonuna \"/\" karakteri eklemeyi unutma!\n",
        "# /home/ferit/repos/UrbanSoundsClassification/preproc/\n",
        "# /content/preproc/\n",
        "preproc_folder = \"/content/preproc/\""
      ],
      "metadata": {
        "id": "V_6AlJKLq92_"
      },
      "id": "V_6AlJKLq92_",
      "execution_count": 6,
      "outputs": []
    },
    {
      "cell_type": "markdown",
      "source": [
        "#### 2.0. Dosya okuma fonksiyonu\n",
        "Spektrogramları okumak için argüman olarak klasörün yolunu alan ve geriye spektrogram ile sınıf numarasını dönen fonksiyon yazacağız."
      ],
      "metadata": {
        "id": "4xhf9aeDANU1"
      },
      "id": "4xhf9aeDANU1"
    },
    {
      "cell_type": "code",
      "source": [
        "def read_spectrograms(folder_path: str):\n",
        "  X_list = []\n",
        "  Y_list = []\n",
        "  for path, subdirs, files in os.walk(folder_path):\n",
        "    for name in files:\n",
        "      file = os.path.join(path, name)\n",
        "      X_list.append(np.load(file))\n",
        "      Y_list.append(int(file.split('-')[2][0]))\n",
        "  return np.array(X_list), np.array(Y_list)"
      ],
      "metadata": {
        "id": "QlqzUYq1AYdn"
      },
      "id": "QlqzUYq1AYdn",
      "execution_count": 63,
      "outputs": []
    },
    {
      "cell_type": "markdown",
      "id": "811040b9-2c68-4984-a05d-b4c308f6c3cf",
      "metadata": {
        "id": "811040b9-2c68-4984-a05d-b4c308f6c3cf"
      },
      "source": [
        "#### 2.1. `train` klasöründeki spektrogramların okunması\n",
        "\n",
        "X_train ve Y_train listelerini elde edeceğiz. Her iki listede 6900 tane eleman bulunmalı. \n",
        "\n",
        "X_train'e spektrogram verisi olan (64, 64) boyutlu NumPy dizilerini, Y_train'e ise karşılık gelen sınıfın numarasını ekleyeceğiz."
      ]
    },
    {
      "cell_type": "code",
      "execution_count": 64,
      "id": "c038f2ab-a525-46f6-a80c-0b390d0ac68c",
      "metadata": {
        "id": "c038f2ab-a525-46f6-a80c-0b390d0ac68c",
        "colab": {
          "base_uri": "https://localhost:8080/"
        },
        "outputId": "0448d127-c9ca-4928-8177-7395c3403395"
      },
      "outputs": [
        {
          "output_type": "execute_result",
          "data": {
            "text/plain": [
              "array([[[[0.97647059],\n",
              "         [0.        ],\n",
              "         [0.        ],\n",
              "         ...,\n",
              "         [0.        ],\n",
              "         [0.        ],\n",
              "         [0.        ]],\n",
              "\n",
              "        [[0.97647059],\n",
              "         [0.07058824],\n",
              "         [0.        ],\n",
              "         ...,\n",
              "         [0.        ],\n",
              "         [0.        ],\n",
              "         [0.        ]],\n",
              "\n",
              "        [[0.97647059],\n",
              "         [0.08627451],\n",
              "         [0.        ],\n",
              "         ...,\n",
              "         [0.        ],\n",
              "         [0.        ],\n",
              "         [0.        ]],\n",
              "\n",
              "        ...,\n",
              "\n",
              "        [[0.97647059],\n",
              "         [0.33333333],\n",
              "         [0.15294118],\n",
              "         ...,\n",
              "         [0.22745098],\n",
              "         [0.3372549 ],\n",
              "         [0.16078431]],\n",
              "\n",
              "        [[0.97647059],\n",
              "         [0.37254902],\n",
              "         [0.25882353],\n",
              "         ...,\n",
              "         [0.21568627],\n",
              "         [0.33333333],\n",
              "         [0.37647059]],\n",
              "\n",
              "        [[0.99607843],\n",
              "         [0.97647059],\n",
              "         [0.97647059],\n",
              "         ...,\n",
              "         [0.97647059],\n",
              "         [0.97647059],\n",
              "         [0.97647059]]],\n",
              "\n",
              "\n",
              "       [[[0.97647059],\n",
              "         [0.        ],\n",
              "         [0.        ],\n",
              "         ...,\n",
              "         [0.        ],\n",
              "         [0.        ],\n",
              "         [0.        ]],\n",
              "\n",
              "        [[0.97647059],\n",
              "         [0.        ],\n",
              "         [0.        ],\n",
              "         ...,\n",
              "         [0.        ],\n",
              "         [0.        ],\n",
              "         [0.        ]],\n",
              "\n",
              "        [[0.97647059],\n",
              "         [0.        ],\n",
              "         [0.        ],\n",
              "         ...,\n",
              "         [0.        ],\n",
              "         [0.        ],\n",
              "         [0.        ]],\n",
              "\n",
              "        ...,\n",
              "\n",
              "        [[0.97647059],\n",
              "         [0.17647059],\n",
              "         [0.19607843],\n",
              "         ...,\n",
              "         [0.2745098 ],\n",
              "         [0.29019608],\n",
              "         [0.22352941]],\n",
              "\n",
              "        [[0.97647059],\n",
              "         [0.21176471],\n",
              "         [0.12941176],\n",
              "         ...,\n",
              "         [0.29019608],\n",
              "         [0.25098039],\n",
              "         [0.18823529]],\n",
              "\n",
              "        [[0.99607843],\n",
              "         [0.97647059],\n",
              "         [0.97647059],\n",
              "         ...,\n",
              "         [0.97647059],\n",
              "         [0.97647059],\n",
              "         [0.97647059]]],\n",
              "\n",
              "\n",
              "       [[[0.97647059],\n",
              "         [0.        ],\n",
              "         [0.        ],\n",
              "         ...,\n",
              "         [0.        ],\n",
              "         [0.        ],\n",
              "         [0.        ]],\n",
              "\n",
              "        [[0.97647059],\n",
              "         [0.09411765],\n",
              "         [0.13333333],\n",
              "         ...,\n",
              "         [0.1254902 ],\n",
              "         [0.10980392],\n",
              "         [0.15294118]],\n",
              "\n",
              "        [[0.97647059],\n",
              "         [0.18823529],\n",
              "         [0.15294118],\n",
              "         ...,\n",
              "         [0.12941176],\n",
              "         [0.15686275],\n",
              "         [0.18823529]],\n",
              "\n",
              "        ...,\n",
              "\n",
              "        [[0.97647059],\n",
              "         [0.58039216],\n",
              "         [0.38039216],\n",
              "         ...,\n",
              "         [0.56078431],\n",
              "         [0.54117647],\n",
              "         [0.50588235]],\n",
              "\n",
              "        [[0.97647059],\n",
              "         [0.74509804],\n",
              "         [0.64705882],\n",
              "         ...,\n",
              "         [0.69019608],\n",
              "         [0.53333333],\n",
              "         [0.54509804]],\n",
              "\n",
              "        [[0.99607843],\n",
              "         [0.97647059],\n",
              "         [0.97647059],\n",
              "         ...,\n",
              "         [0.97647059],\n",
              "         [0.97647059],\n",
              "         [0.97647059]]],\n",
              "\n",
              "\n",
              "       ...,\n",
              "\n",
              "\n",
              "       [[[0.97647059],\n",
              "         [0.        ],\n",
              "         [0.        ],\n",
              "         ...,\n",
              "         [0.        ],\n",
              "         [0.        ],\n",
              "         [0.        ]],\n",
              "\n",
              "        [[0.97647059],\n",
              "         [0.        ],\n",
              "         [0.        ],\n",
              "         ...,\n",
              "         [0.        ],\n",
              "         [0.        ],\n",
              "         [0.        ]],\n",
              "\n",
              "        [[0.97647059],\n",
              "         [0.        ],\n",
              "         [0.        ],\n",
              "         ...,\n",
              "         [0.        ],\n",
              "         [0.        ],\n",
              "         [0.        ]],\n",
              "\n",
              "        ...,\n",
              "\n",
              "        [[0.97647059],\n",
              "         [0.78431373],\n",
              "         [0.7254902 ],\n",
              "         ...,\n",
              "         [0.57647059],\n",
              "         [0.69803922],\n",
              "         [0.61176471]],\n",
              "\n",
              "        [[0.97647059],\n",
              "         [0.92156863],\n",
              "         [0.81960784],\n",
              "         ...,\n",
              "         [0.92941176],\n",
              "         [0.94117647],\n",
              "         [0.83137255]],\n",
              "\n",
              "        [[0.99607843],\n",
              "         [0.97647059],\n",
              "         [0.97647059],\n",
              "         ...,\n",
              "         [0.97647059],\n",
              "         [0.97647059],\n",
              "         [0.97647059]]],\n",
              "\n",
              "\n",
              "       [[[0.97647059],\n",
              "         [0.        ],\n",
              "         [0.        ],\n",
              "         ...,\n",
              "         [0.        ],\n",
              "         [0.        ],\n",
              "         [0.        ]],\n",
              "\n",
              "        [[0.97647059],\n",
              "         [0.        ],\n",
              "         [0.        ],\n",
              "         ...,\n",
              "         [0.        ],\n",
              "         [0.        ],\n",
              "         [0.        ]],\n",
              "\n",
              "        [[0.97647059],\n",
              "         [0.        ],\n",
              "         [0.        ],\n",
              "         ...,\n",
              "         [0.00392157],\n",
              "         [0.01568627],\n",
              "         [0.        ]],\n",
              "\n",
              "        ...,\n",
              "\n",
              "        [[0.97647059],\n",
              "         [0.        ],\n",
              "         [0.        ],\n",
              "         ...,\n",
              "         [0.        ],\n",
              "         [0.        ],\n",
              "         [0.        ]],\n",
              "\n",
              "        [[0.97647059],\n",
              "         [0.        ],\n",
              "         [0.        ],\n",
              "         ...,\n",
              "         [0.01568627],\n",
              "         [0.        ],\n",
              "         [0.02745098]],\n",
              "\n",
              "        [[0.99607843],\n",
              "         [0.97647059],\n",
              "         [0.97647059],\n",
              "         ...,\n",
              "         [0.97647059],\n",
              "         [0.97647059],\n",
              "         [0.97647059]]],\n",
              "\n",
              "\n",
              "       [[[0.97647059],\n",
              "         [0.        ],\n",
              "         [0.        ],\n",
              "         ...,\n",
              "         [0.        ],\n",
              "         [0.        ],\n",
              "         [0.        ]],\n",
              "\n",
              "        [[0.97647059],\n",
              "         [0.        ],\n",
              "         [0.        ],\n",
              "         ...,\n",
              "         [0.        ],\n",
              "         [0.        ],\n",
              "         [0.        ]],\n",
              "\n",
              "        [[0.97647059],\n",
              "         [0.        ],\n",
              "         [0.        ],\n",
              "         ...,\n",
              "         [0.        ],\n",
              "         [0.        ],\n",
              "         [0.        ]],\n",
              "\n",
              "        ...,\n",
              "\n",
              "        [[0.97647059],\n",
              "         [0.41960784],\n",
              "         [0.48235294],\n",
              "         ...,\n",
              "         [0.58039216],\n",
              "         [0.45490196],\n",
              "         [0.49019608]],\n",
              "\n",
              "        [[0.97647059],\n",
              "         [0.40392157],\n",
              "         [0.4745098 ],\n",
              "         ...,\n",
              "         [0.45490196],\n",
              "         [0.47058824],\n",
              "         [0.31372549]],\n",
              "\n",
              "        [[0.99607843],\n",
              "         [0.97647059],\n",
              "         [0.97647059],\n",
              "         ...,\n",
              "         [0.97647059],\n",
              "         [0.97647059],\n",
              "         [0.97647059]]]])"
            ]
          },
          "metadata": {},
          "execution_count": 64
        }
      ],
      "source": [
        "X_train, Y_train = read_spectrograms(f\"{preproc_folder}train\")\n",
        "X_train.reshape(6900, 64, 64, 1)"
      ]
    },
    {
      "cell_type": "code",
      "execution_count": 65,
      "id": "a2d70039-d01c-4335-aff4-55674bdbe31b",
      "metadata": {
        "id": "a2d70039-d01c-4335-aff4-55674bdbe31b",
        "outputId": "7ec17e1d-761f-4434-f012-2defbd1362eb",
        "colab": {
          "base_uri": "https://localhost:8080/"
        }
      },
      "outputs": [
        {
          "output_type": "execute_result",
          "data": {
            "text/plain": [
              "True"
            ]
          },
          "metadata": {},
          "execution_count": 65
        }
      ],
      "source": [
        "len(X_train) == len(Y_train) == 6900"
      ]
    },
    {
      "cell_type": "code",
      "source": [
        "plt.imshow(X_train[1200])\n",
        "print(f\"Sınıf: {Y_train[1200]}\")"
      ],
      "metadata": {
        "id": "7zPEVnhgJRmf",
        "outputId": "cd20e63c-fc5b-4280-80c2-a3f69fc5770b",
        "colab": {
          "base_uri": "https://localhost:8080/",
          "height": 285
        }
      },
      "id": "7zPEVnhgJRmf",
      "execution_count": 66,
      "outputs": [
        {
          "output_type": "stream",
          "name": "stdout",
          "text": [
            "Sınıf: 4\n"
          ]
        },
        {
          "output_type": "display_data",
          "data": {
            "text/plain": [
              "<Figure size 432x288 with 1 Axes>"
            ],
            "image/png": "[encoded data removed]"
          },
          "metadata": {
            "needs_background": "light"
          }
        }
      ]
    },
    {
      "cell_type": "markdown",
      "id": "416358f7-5e48-4149-a4fb-f5dee4a7045f",
      "metadata": {
        "id": "416358f7-5e48-4149-a4fb-f5dee4a7045f"
      },
      "source": [
        "#### 2.2. `val` klasöründeki spektrogramların okunması\n",
        "\n",
        "X_val ve Y_val listelerini elde edeceğiz. Her iki listede 900 tane eleman bulunmalı."
      ]
    },
    {
      "cell_type": "code",
      "execution_count": 67,
      "id": "9161678b-d60c-4348-b7f9-9e2ce5a06402",
      "metadata": {
        "id": "9161678b-d60c-4348-b7f9-9e2ce5a06402",
        "colab": {
          "base_uri": "https://localhost:8080/"
        },
        "outputId": "d3e7739d-6df5-4eba-ace4-af1b719c09da"
      },
      "outputs": [
        {
          "output_type": "execute_result",
          "data": {
            "text/plain": [
              "array([[[[0.97647059],\n",
              "         [0.        ],\n",
              "         [0.        ],\n",
              "         ...,\n",
              "         [0.        ],\n",
              "         [0.        ],\n",
              "         [0.        ]],\n",
              "\n",
              "        [[0.97647059],\n",
              "         [0.        ],\n",
              "         [0.        ],\n",
              "         ...,\n",
              "         [0.        ],\n",
              "         [0.        ],\n",
              "         [0.        ]],\n",
              "\n",
              "        [[0.97647059],\n",
              "         [0.        ],\n",
              "         [0.        ],\n",
              "         ...,\n",
              "         [0.        ],\n",
              "         [0.        ],\n",
              "         [0.        ]],\n",
              "\n",
              "        ...,\n",
              "\n",
              "        [[0.97647059],\n",
              "         [0.62745098],\n",
              "         [0.69019608],\n",
              "         ...,\n",
              "         [0.45490196],\n",
              "         [0.54901961],\n",
              "         [0.47058824]],\n",
              "\n",
              "        [[0.97647059],\n",
              "         [0.78823529],\n",
              "         [0.64313725],\n",
              "         ...,\n",
              "         [0.80784314],\n",
              "         [0.6       ],\n",
              "         [0.76078431]],\n",
              "\n",
              "        [[0.99607843],\n",
              "         [0.97647059],\n",
              "         [0.97647059],\n",
              "         ...,\n",
              "         [0.97647059],\n",
              "         [0.97647059],\n",
              "         [0.97647059]]],\n",
              "\n",
              "\n",
              "       [[[0.97647059],\n",
              "         [0.        ],\n",
              "         [0.        ],\n",
              "         ...,\n",
              "         [0.        ],\n",
              "         [0.        ],\n",
              "         [0.        ]],\n",
              "\n",
              "        [[0.97647059],\n",
              "         [0.        ],\n",
              "         [0.        ],\n",
              "         ...,\n",
              "         [0.        ],\n",
              "         [0.        ],\n",
              "         [0.        ]],\n",
              "\n",
              "        [[0.97647059],\n",
              "         [0.        ],\n",
              "         [0.05490196],\n",
              "         ...,\n",
              "         [0.        ],\n",
              "         [0.        ],\n",
              "         [0.        ]],\n",
              "\n",
              "        ...,\n",
              "\n",
              "        [[0.97647059],\n",
              "         [0.57254902],\n",
              "         [0.95686275],\n",
              "         ...,\n",
              "         [0.87058824],\n",
              "         [0.69019608],\n",
              "         [0.65098039]],\n",
              "\n",
              "        [[0.97647059],\n",
              "         [0.69019608],\n",
              "         [0.56862745],\n",
              "         ...,\n",
              "         [0.53333333],\n",
              "         [0.61960784],\n",
              "         [0.61960784]],\n",
              "\n",
              "        [[0.99607843],\n",
              "         [0.97647059],\n",
              "         [0.97647059],\n",
              "         ...,\n",
              "         [0.97647059],\n",
              "         [0.97647059],\n",
              "         [0.97647059]]],\n",
              "\n",
              "\n",
              "       [[[0.97647059],\n",
              "         [0.        ],\n",
              "         [0.        ],\n",
              "         ...,\n",
              "         [0.        ],\n",
              "         [0.        ],\n",
              "         [0.        ]],\n",
              "\n",
              "        [[0.97647059],\n",
              "         [0.        ],\n",
              "         [0.08627451],\n",
              "         ...,\n",
              "         [0.        ],\n",
              "         [0.        ],\n",
              "         [0.        ]],\n",
              "\n",
              "        [[0.97647059],\n",
              "         [0.        ],\n",
              "         [0.11372549],\n",
              "         ...,\n",
              "         [0.        ],\n",
              "         [0.        ],\n",
              "         [0.        ]],\n",
              "\n",
              "        ...,\n",
              "\n",
              "        [[0.97647059],\n",
              "         [0.43137255],\n",
              "         [0.21568627],\n",
              "         ...,\n",
              "         [0.38823529],\n",
              "         [0.49019608],\n",
              "         [0.4745098 ]],\n",
              "\n",
              "        [[0.97647059],\n",
              "         [0.44705882],\n",
              "         [0.40392157],\n",
              "         ...,\n",
              "         [0.40784314],\n",
              "         [0.55686275],\n",
              "         [0.44313725]],\n",
              "\n",
              "        [[0.99607843],\n",
              "         [0.97647059],\n",
              "         [0.97647059],\n",
              "         ...,\n",
              "         [0.97647059],\n",
              "         [0.97647059],\n",
              "         [0.97647059]]],\n",
              "\n",
              "\n",
              "       ...,\n",
              "\n",
              "\n",
              "       [[[0.97647059],\n",
              "         [0.        ],\n",
              "         [0.        ],\n",
              "         ...,\n",
              "         [0.        ],\n",
              "         [0.        ],\n",
              "         [0.        ]],\n",
              "\n",
              "        [[0.97647059],\n",
              "         [0.        ],\n",
              "         [0.        ],\n",
              "         ...,\n",
              "         [0.        ],\n",
              "         [0.        ],\n",
              "         [0.        ]],\n",
              "\n",
              "        [[0.97647059],\n",
              "         [0.        ],\n",
              "         [0.        ],\n",
              "         ...,\n",
              "         [0.        ],\n",
              "         [0.        ],\n",
              "         [0.        ]],\n",
              "\n",
              "        ...,\n",
              "\n",
              "        [[0.97647059],\n",
              "         [0.62745098],\n",
              "         [0.56862745],\n",
              "         ...,\n",
              "         [0.61568627],\n",
              "         [0.70588235],\n",
              "         [0.56862745]],\n",
              "\n",
              "        [[0.97647059],\n",
              "         [0.52941176],\n",
              "         [0.94901961],\n",
              "         ...,\n",
              "         [0.54117647],\n",
              "         [0.8       ],\n",
              "         [0.77254902]],\n",
              "\n",
              "        [[0.99607843],\n",
              "         [0.97647059],\n",
              "         [0.97647059],\n",
              "         ...,\n",
              "         [0.97647059],\n",
              "         [0.97647059],\n",
              "         [0.97647059]]],\n",
              "\n",
              "\n",
              "       [[[0.97647059],\n",
              "         [0.        ],\n",
              "         [0.        ],\n",
              "         ...,\n",
              "         [0.        ],\n",
              "         [0.        ],\n",
              "         [0.        ]],\n",
              "\n",
              "        [[0.97647059],\n",
              "         [0.09411765],\n",
              "         [0.14117647],\n",
              "         ...,\n",
              "         [0.13333333],\n",
              "         [0.16078431],\n",
              "         [0.16078431]],\n",
              "\n",
              "        [[0.97647059],\n",
              "         [0.12156863],\n",
              "         [0.10196078],\n",
              "         ...,\n",
              "         [0.17254902],\n",
              "         [0.28627451],\n",
              "         [0.21960784]],\n",
              "\n",
              "        ...,\n",
              "\n",
              "        [[0.97647059],\n",
              "         [0.55294118],\n",
              "         [0.57647059],\n",
              "         ...,\n",
              "         [0.5254902 ],\n",
              "         [0.51764706],\n",
              "         [0.52156863]],\n",
              "\n",
              "        [[0.97647059],\n",
              "         [0.54117647],\n",
              "         [0.44705882],\n",
              "         ...,\n",
              "         [0.64705882],\n",
              "         [0.65098039],\n",
              "         [0.60784314]],\n",
              "\n",
              "        [[0.99607843],\n",
              "         [0.97647059],\n",
              "         [0.97647059],\n",
              "         ...,\n",
              "         [0.97647059],\n",
              "         [0.97647059],\n",
              "         [0.97647059]]],\n",
              "\n",
              "\n",
              "       [[[0.97647059],\n",
              "         [0.        ],\n",
              "         [0.        ],\n",
              "         ...,\n",
              "         [0.        ],\n",
              "         [0.        ],\n",
              "         [0.        ]],\n",
              "\n",
              "        [[0.97647059],\n",
              "         [0.        ],\n",
              "         [0.        ],\n",
              "         ...,\n",
              "         [0.        ],\n",
              "         [0.        ],\n",
              "         [0.        ]],\n",
              "\n",
              "        [[0.97647059],\n",
              "         [0.        ],\n",
              "         [0.        ],\n",
              "         ...,\n",
              "         [0.        ],\n",
              "         [0.        ],\n",
              "         [0.        ]],\n",
              "\n",
              "        ...,\n",
              "\n",
              "        [[0.97647059],\n",
              "         [0.54117647],\n",
              "         [0.61960784],\n",
              "         ...,\n",
              "         [0.6745098 ],\n",
              "         [0.53333333],\n",
              "         [0.50980392]],\n",
              "\n",
              "        [[0.97647059],\n",
              "         [0.64313725],\n",
              "         [0.67058824],\n",
              "         ...,\n",
              "         [0.61960784],\n",
              "         [0.65098039],\n",
              "         [0.74509804]],\n",
              "\n",
              "        [[0.99607843],\n",
              "         [0.97647059],\n",
              "         [0.97647059],\n",
              "         ...,\n",
              "         [0.97647059],\n",
              "         [0.97647059],\n",
              "         [0.97647059]]]])"
            ]
          },
          "metadata": {},
          "execution_count": 67
        }
      ],
      "source": [
        "X_val, Y_val = read_spectrograms(f\"{preproc_folder}val\")\n",
        "X_val.reshape(900, 64, 64, 1)"
      ]
    },
    {
      "cell_type": "code",
      "execution_count": 68,
      "id": "00c42e2a-3d10-4c85-8c98-9fbbf10ad37f",
      "metadata": {
        "id": "00c42e2a-3d10-4c85-8c98-9fbbf10ad37f",
        "outputId": "3266db70-40f7-4cf6-fbf9-b1616d86b093",
        "colab": {
          "base_uri": "https://localhost:8080/"
        }
      },
      "outputs": [
        {
          "output_type": "execute_result",
          "data": {
            "text/plain": [
              "True"
            ]
          },
          "metadata": {},
          "execution_count": 68
        }
      ],
      "source": [
        "len(X_val) == len(Y_val) == 900"
      ]
    },
    {
      "cell_type": "markdown",
      "id": "3fe7f8f1-16ce-409b-bd93-67ab1dd7346a",
      "metadata": {
        "id": "3fe7f8f1-16ce-409b-bd93-67ab1dd7346a"
      },
      "source": [
        "#### 2.3. `test` klasöründeki spektrogramların okunması\n",
        "\n",
        "X_test ve Y_test listelerini elde edeceğiz. Her iki listede 935 tane eleman bulunmalı."
      ]
    },
    {
      "cell_type": "code",
      "execution_count": 69,
      "id": "550d07a8-1a95-4b7a-91ca-26c08755f44e",
      "metadata": {
        "id": "550d07a8-1a95-4b7a-91ca-26c08755f44e"
      },
      "outputs": [],
      "source": [
        "X_test, Y_test = read_spectrograms(f\"{preproc_folder}test\")"
      ]
    },
    {
      "cell_type": "code",
      "execution_count": 70,
      "id": "6a4c534f-2b43-45f9-807b-949bae909ee9",
      "metadata": {
        "id": "6a4c534f-2b43-45f9-807b-949bae909ee9",
        "outputId": "9acbb8f8-8a93-4728-8d03-0aedca75ec15",
        "colab": {
          "base_uri": "https://localhost:8080/"
        }
      },
      "outputs": [
        {
          "output_type": "execute_result",
          "data": {
            "text/plain": [
              "True"
            ]
          },
          "metadata": {},
          "execution_count": 70
        }
      ],
      "source": [
        "len(X_test) == len(Y_test) == 932"
      ]
    },
    {
      "cell_type": "markdown",
      "id": "5dacf480-f726-4263-b1ca-a16e483df98c",
      "metadata": {
        "id": "5dacf480-f726-4263-b1ca-a16e483df98c"
      },
      "source": [
        "### 3. Nöral ağın oluşturulması"
      ]
    },
    {
      "cell_type": "code",
      "execution_count": 71,
      "id": "17c45519-f573-4afd-8448-d767abf7f7e2",
      "metadata": {
        "id": "17c45519-f573-4afd-8448-d767abf7f7e2"
      },
      "outputs": [],
      "source": [
        "net = tf.keras.Sequential()"
      ]
    },
    {
      "cell_type": "markdown",
      "source": [
        "Konvülasyonel filtreleri ve pooling katmanlarını bağlıyoruz."
      ],
      "metadata": {
        "id": "IcgfU0kdGW4H"
      },
      "id": "IcgfU0kdGW4H"
    },
    {
      "cell_type": "code",
      "source": [
        "net.add(tf.keras.layers.Conv2D(64,\n",
        "                               kernel_size = (3, 3),\n",
        "                               strides = (1, 1),\n",
        "                               padding = \"same\",\n",
        "                               activation = \"relu\",\n",
        "                               input_shape = (64, 64, 1)))\n",
        "\n",
        "net.add(tf.keras.layers.MaxPooling2D(pool_size = (2, 2)))\n",
        "\n",
        "net.add(tf.keras.layers.Conv2D(128,\n",
        "                               kernel_size = (5, 5),\n",
        "                               strides = (1, 1),\n",
        "                               padding = \"same\",\n",
        "                               activation = \"LeakyReLU\"))\n",
        "\n",
        "net.add(tf.keras.layers.MaxPooling2D(pool_size = (2, 2)))\n",
        "\n",
        "net.add(tf.keras.layers.Conv2D(128,\n",
        "                               kernel_size = (3, 3),\n",
        "                               strides = (1, 1),\n",
        "                               padding = \"same\",\n",
        "                               activation = \"LeakyReLU\"))"
      ],
      "metadata": {
        "id": "vn5cYJ4YDMTj"
      },
      "id": "vn5cYJ4YDMTj",
      "execution_count": 72,
      "outputs": []
    },
    {
      "cell_type": "markdown",
      "source": [
        "2D katmanları düzleştiriyor ve output katmanına doğru Dense katmanlar yerleştiriyoruz."
      ],
      "metadata": {
        "id": "4krOt5YLGbtr"
      },
      "id": "4krOt5YLGbtr"
    },
    {
      "cell_type": "code",
      "source": [
        "net.add(tf.keras.layers.Flatten())\n",
        "net.add(tf.keras.layers.Dense(128, activation = \"relu\"))\n",
        "net.add(tf.keras.layers.Dropout(0.5))\n",
        "net.add(tf.keras.layers.Dense(64, activation = \"relu\"))\n",
        "net.add(tf.keras.layers.Dropout(0.5))\n",
        "net.add(tf.keras.layers.Dense(10, activation = \"softmax\"))"
      ],
      "metadata": {
        "id": "D8-O7YJ3GhE8"
      },
      "id": "D8-O7YJ3GhE8",
      "execution_count": 73,
      "outputs": []
    },
    {
      "cell_type": "markdown",
      "source": [
        "Ağı compile ediyoruz."
      ],
      "metadata": {
        "id": "r1kimFzKGyLs"
      },
      "id": "r1kimFzKGyLs"
    },
    {
      "cell_type": "code",
      "source": [
        "net.compile(optimizer = \"adam\",\n",
        "            loss = \"sparse_categorical_crossentropy\", # sparse_categorical_crossentropy | categorical_crossentropy\n",
        "            metrics = [\"accuracy\"]) "
      ],
      "metadata": {
        "id": "Qk85xce2G13U"
      },
      "id": "Qk85xce2G13U",
      "execution_count": 74,
      "outputs": []
    },
    {
      "cell_type": "markdown",
      "source": [
        "Ağın yapısı:"
      ],
      "metadata": {
        "id": "NE09GIPJIi9s"
      },
      "id": "NE09GIPJIi9s"
    },
    {
      "cell_type": "code",
      "source": [
        "net.summary()"
      ],
      "metadata": {
        "id": "RecHsQ2YIlDK",
        "outputId": "9144e34f-c2e7-4046-ea42-8a09072328b9",
        "colab": {
          "base_uri": "https://localhost:8080/"
        }
      },
      "id": "RecHsQ2YIlDK",
      "execution_count": 75,
      "outputs": [
        {
          "output_type": "stream",
          "name": "stdout",
          "text": [
            "Model: \"sequential_1\"\n",
            "_________________________________________________________________\n",
            " Layer (type)                Output Shape              Param #   \n",
            "=================================================================\n",
            " conv2d_4 (Conv2D)           (None, 64, 64, 64)        640       \n",
            "                                                                 \n",
            " max_pooling2d_3 (MaxPooling  (None, 32, 32, 64)       0         \n",
            " 2D)                                                             \n",
            "                                                                 \n",
            " conv2d_5 (Conv2D)           (None, 32, 32, 128)       204928    \n",
            "                                                                 \n",
            " max_pooling2d_4 (MaxPooling  (None, 16, 16, 128)      0         \n",
            " 2D)                                                             \n",
            "                                                                 \n",
            " conv2d_6 (Conv2D)           (None, 16, 16, 128)       147584    \n",
            "                                                                 \n",
            " flatten_1 (Flatten)         (None, 32768)             0         \n",
            "                                                                 \n",
            " dense_3 (Dense)             (None, 128)               4194432   \n",
            "                                                                 \n",
            " dropout_2 (Dropout)         (None, 128)               0         \n",
            "                                                                 \n",
            " dense_4 (Dense)             (None, 64)                8256      \n",
            "                                                                 \n",
            " dropout_3 (Dropout)         (None, 64)                0         \n",
            "                                                                 \n",
            " dense_5 (Dense)             (None, 10)                650       \n",
            "                                                                 \n",
            "=================================================================\n",
            "Total params: 4,556,490\n",
            "Trainable params: 4,556,490\n",
            "Non-trainable params: 0\n",
            "_________________________________________________________________\n"
          ]
        }
      ]
    },
    {
      "cell_type": "markdown",
      "source": [
        "### 4. Nöral ağın eğitilmesi"
      ],
      "metadata": {
        "id": "JRETLoeAPLCB"
      },
      "id": "JRETLoeAPLCB"
    },
    {
      "cell_type": "markdown",
      "source": [
        "Epoch miktarını belirliyor ve nöral ağı eğitiyoruz."
      ],
      "metadata": {
        "id": "LBYzqjGMH2kH"
      },
      "id": "LBYzqjGMH2kH"
    },
    {
      "cell_type": "code",
      "source": [
        "epoch = 250"
      ],
      "metadata": {
        "id": "RhAheeyXH8XI"
      },
      "id": "RhAheeyXH8XI",
      "execution_count": 76,
      "outputs": []
    },
    {
      "cell_type": "code",
      "source": [
        "results = net.fit(X_train, Y_train,\n",
        "                    epochs = epoch,\n",
        "                    validation_data = (X_val, Y_val))"
      ],
      "metadata": {
        "id": "yFYTh7U7IA3f",
        "outputId": "8856f282-3696-411c-ead0-97fcbe15fb94",
        "colab": {
          "base_uri": "https://localhost:8080/"
        }
      },
      "id": "yFYTh7U7IA3f",
      "execution_count": 77,
      "outputs": [
        {
          "output_type": "stream",
          "name": "stdout",
          "text": [
            "Epoch 1/250\n",
            "216/216 [==============================] - 4s 14ms/step - loss: 1.8939 - accuracy: 0.3164 - val_loss: 1.2160 - val_accuracy: 0.5922\n",
            "Epoch 2/250\n",
            "216/216 [==============================] - 3s 13ms/step - loss: 1.3284 - accuracy: 0.5513 - val_loss: 0.9852 - val_accuracy: 0.6678\n",
            "Epoch 3/250\n",
            "216/216 [==============================] - 3s 13ms/step - loss: 1.0541 - accuracy: 0.6551 - val_loss: 0.7948 - val_accuracy: 0.7678\n",
            "Epoch 4/250\n",
            "216/216 [==============================] - 3s 13ms/step - loss: 0.8997 - accuracy: 0.7109 - val_loss: 0.7014 - val_accuracy: 0.7833\n",
            "Epoch 5/250\n",
            "216/216 [==============================] - 3s 13ms/step - loss: 0.7811 - accuracy: 0.7590 - val_loss: 0.6064 - val_accuracy: 0.8200\n",
            "Epoch 6/250\n",
            "216/216 [==============================] - 3s 14ms/step - loss: 0.6765 - accuracy: 0.7939 - val_loss: 0.6479 - val_accuracy: 0.7800\n",
            "Epoch 7/250\n",
            "216/216 [==============================] - 3s 13ms/step - loss: 0.6182 - accuracy: 0.8080 - val_loss: 0.5638 - val_accuracy: 0.8178\n",
            "Epoch 8/250\n",
            "216/216 [==============================] - 3s 13ms/step - loss: 0.5548 - accuracy: 0.8267 - val_loss: 0.4624 - val_accuracy: 0.8589\n",
            "Epoch 9/250\n",
            "216/216 [==============================] - 3s 14ms/step - loss: 0.5359 - accuracy: 0.8343 - val_loss: 0.5317 - val_accuracy: 0.8300\n",
            "Epoch 10/250\n",
            "216/216 [==============================] - 3s 13ms/step - loss: 0.4685 - accuracy: 0.8562 - val_loss: 0.4600 - val_accuracy: 0.8644\n",
            "Epoch 11/250\n",
            "216/216 [==============================] - 3s 13ms/step - loss: 0.4195 - accuracy: 0.8719 - val_loss: 0.4001 - val_accuracy: 0.8789\n",
            "Epoch 12/250\n",
            "216/216 [==============================] - 3s 13ms/step - loss: 0.4157 - accuracy: 0.8722 - val_loss: 0.4787 - val_accuracy: 0.8667\n",
            "Epoch 13/250\n",
            "216/216 [==============================] - 3s 14ms/step - loss: 0.3532 - accuracy: 0.8891 - val_loss: 0.5152 - val_accuracy: 0.8633\n",
            "Epoch 14/250\n",
            "216/216 [==============================] - 3s 13ms/step - loss: 0.3619 - accuracy: 0.8875 - val_loss: 0.4385 - val_accuracy: 0.8678\n",
            "Epoch 15/250\n",
            "216/216 [==============================] - 3s 13ms/step - loss: 0.3029 - accuracy: 0.9075 - val_loss: 0.5599 - val_accuracy: 0.8478\n",
            "Epoch 16/250\n",
            "216/216 [==============================] - 3s 14ms/step - loss: 0.2824 - accuracy: 0.9145 - val_loss: 0.5649 - val_accuracy: 0.8656\n",
            "Epoch 17/250\n",
            "216/216 [==============================] - 3s 14ms/step - loss: 0.3015 - accuracy: 0.9117 - val_loss: 0.4058 - val_accuracy: 0.8944\n",
            "Epoch 18/250\n",
            "216/216 [==============================] - 3s 13ms/step - loss: 0.2995 - accuracy: 0.9091 - val_loss: 0.5048 - val_accuracy: 0.8778\n",
            "Epoch 19/250\n",
            "216/216 [==============================] - 3s 13ms/step - loss: 0.2721 - accuracy: 0.9193 - val_loss: 0.5210 - val_accuracy: 0.8867\n",
            "Epoch 20/250\n",
            "216/216 [==============================] - 3s 14ms/step - loss: 0.2391 - accuracy: 0.9277 - val_loss: 0.5259 - val_accuracy: 0.8956\n",
            "Epoch 21/250\n",
            "216/216 [==============================] - 3s 14ms/step - loss: 0.2375 - accuracy: 0.9296 - val_loss: 0.5378 - val_accuracy: 0.8800\n",
            "Epoch 22/250\n",
            "216/216 [==============================] - 3s 14ms/step - loss: 0.2253 - accuracy: 0.9312 - val_loss: 0.4552 - val_accuracy: 0.8900\n",
            "Epoch 23/250\n",
            "216/216 [==============================] - 3s 13ms/step - loss: 0.2033 - accuracy: 0.9426 - val_loss: 0.4571 - val_accuracy: 0.8878\n",
            "Epoch 24/250\n",
            "216/216 [==============================] - 3s 14ms/step - loss: 0.2023 - accuracy: 0.9384 - val_loss: 0.4348 - val_accuracy: 0.8767\n",
            "Epoch 25/250\n",
            "216/216 [==============================] - 3s 14ms/step - loss: 0.2465 - accuracy: 0.9241 - val_loss: 0.4459 - val_accuracy: 0.8856\n",
            "Epoch 26/250\n",
            "216/216 [==============================] - 3s 13ms/step - loss: 0.1955 - accuracy: 0.9403 - val_loss: 0.6896 - val_accuracy: 0.8678\n",
            "Epoch 27/250\n",
            "216/216 [==============================] - 3s 13ms/step - loss: 0.2215 - accuracy: 0.9351 - val_loss: 0.5338 - val_accuracy: 0.8811\n",
            "Epoch 28/250\n",
            "216/216 [==============================] - 3s 14ms/step - loss: 0.1848 - accuracy: 0.9471 - val_loss: 0.4834 - val_accuracy: 0.8778\n",
            "Epoch 29/250\n",
            "216/216 [==============================] - 3s 13ms/step - loss: 0.1840 - accuracy: 0.9488 - val_loss: 0.5520 - val_accuracy: 0.8856\n",
            "Epoch 30/250\n",
            "216/216 [==============================] - 3s 13ms/step - loss: 0.1917 - accuracy: 0.9430 - val_loss: 0.5061 - val_accuracy: 0.8933\n",
            "Epoch 31/250\n",
            "216/216 [==============================] - 3s 13ms/step - loss: 0.1923 - accuracy: 0.9439 - val_loss: 0.4472 - val_accuracy: 0.8911\n",
            "Epoch 32/250\n",
            "216/216 [==============================] - 3s 14ms/step - loss: 0.1620 - accuracy: 0.9517 - val_loss: 0.4207 - val_accuracy: 0.9022\n",
            "Epoch 33/250\n",
            "216/216 [==============================] - 3s 13ms/step - loss: 0.1564 - accuracy: 0.9558 - val_loss: 0.5290 - val_accuracy: 0.8856\n",
            "Epoch 34/250\n",
            "216/216 [==============================] - 3s 13ms/step - loss: 0.1668 - accuracy: 0.9478 - val_loss: 0.5550 - val_accuracy: 0.8789\n",
            "Epoch 35/250\n",
            "216/216 [==============================] - 3s 14ms/step - loss: 0.1535 - accuracy: 0.9542 - val_loss: 0.4392 - val_accuracy: 0.8867\n",
            "Epoch 36/250\n",
            "216/216 [==============================] - 3s 13ms/step - loss: 0.1626 - accuracy: 0.9539 - val_loss: 0.6013 - val_accuracy: 0.8800\n",
            "Epoch 37/250\n",
            "216/216 [==============================] - 3s 13ms/step - loss: 0.1402 - accuracy: 0.9599 - val_loss: 0.6790 - val_accuracy: 0.8833\n",
            "Epoch 38/250\n",
            "216/216 [==============================] - 3s 13ms/step - loss: 0.1847 - accuracy: 0.9497 - val_loss: 0.5159 - val_accuracy: 0.8844\n",
            "Epoch 39/250\n",
            "216/216 [==============================] - 3s 14ms/step - loss: 0.1604 - accuracy: 0.9542 - val_loss: 0.3988 - val_accuracy: 0.8956\n",
            "Epoch 40/250\n",
            "216/216 [==============================] - 3s 14ms/step - loss: 0.1483 - accuracy: 0.9552 - val_loss: 0.6188 - val_accuracy: 0.8656\n",
            "Epoch 41/250\n",
            "216/216 [==============================] - 3s 13ms/step - loss: 0.1555 - accuracy: 0.9577 - val_loss: 0.5623 - val_accuracy: 0.8867\n",
            "Epoch 42/250\n",
            "216/216 [==============================] - 3s 13ms/step - loss: 0.2081 - accuracy: 0.9486 - val_loss: 0.7281 - val_accuracy: 0.8711\n",
            "Epoch 43/250\n",
            "216/216 [==============================] - 3s 13ms/step - loss: 0.1845 - accuracy: 0.9520 - val_loss: 0.5122 - val_accuracy: 0.8867\n",
            "Epoch 44/250\n",
            "216/216 [==============================] - 3s 14ms/step - loss: 0.1093 - accuracy: 0.9690 - val_loss: 0.5389 - val_accuracy: 0.8967\n",
            "Epoch 45/250\n",
            "216/216 [==============================] - 3s 13ms/step - loss: 0.1267 - accuracy: 0.9662 - val_loss: 0.5313 - val_accuracy: 0.8967\n",
            "Epoch 46/250\n",
            "216/216 [==============================] - 3s 14ms/step - loss: 0.0990 - accuracy: 0.9701 - val_loss: 0.5563 - val_accuracy: 0.8956\n",
            "Epoch 47/250\n",
            "216/216 [==============================] - 3s 14ms/step - loss: 0.1388 - accuracy: 0.9642 - val_loss: 0.5392 - val_accuracy: 0.8856\n",
            "Epoch 48/250\n",
            "216/216 [==============================] - 3s 13ms/step - loss: 0.1322 - accuracy: 0.9652 - val_loss: 0.5380 - val_accuracy: 0.8800\n",
            "Epoch 49/250\n",
            "216/216 [==============================] - 3s 13ms/step - loss: 0.1152 - accuracy: 0.9648 - val_loss: 0.6298 - val_accuracy: 0.8744\n",
            "Epoch 50/250\n",
            "216/216 [==============================] - 3s 14ms/step - loss: 0.1757 - accuracy: 0.9543 - val_loss: 0.5797 - val_accuracy: 0.8944\n",
            "Epoch 51/250\n",
            "216/216 [==============================] - 3s 13ms/step - loss: 0.1180 - accuracy: 0.9654 - val_loss: 0.6205 - val_accuracy: 0.8911\n",
            "Epoch 52/250\n",
            "216/216 [==============================] - 3s 14ms/step - loss: 0.1347 - accuracy: 0.9623 - val_loss: 0.5676 - val_accuracy: 0.8889\n",
            "Epoch 53/250\n",
            "216/216 [==============================] - 3s 14ms/step - loss: 0.1265 - accuracy: 0.9649 - val_loss: 0.4824 - val_accuracy: 0.8900\n",
            "Epoch 54/250\n",
            "216/216 [==============================] - 3s 14ms/step - loss: 0.1525 - accuracy: 0.9591 - val_loss: 0.5440 - val_accuracy: 0.8811\n",
            "Epoch 55/250\n",
            "216/216 [==============================] - 3s 13ms/step - loss: 0.1093 - accuracy: 0.9680 - val_loss: 0.6895 - val_accuracy: 0.8989\n",
            "Epoch 56/250\n",
            "216/216 [==============================] - 3s 14ms/step - loss: 0.1187 - accuracy: 0.9646 - val_loss: 0.6376 - val_accuracy: 0.8844\n",
            "Epoch 57/250\n",
            "216/216 [==============================] - 3s 14ms/step - loss: 0.1001 - accuracy: 0.9701 - val_loss: 0.5924 - val_accuracy: 0.8789\n",
            "Epoch 58/250\n",
            "216/216 [==============================] - 3s 14ms/step - loss: 0.0950 - accuracy: 0.9712 - val_loss: 0.6235 - val_accuracy: 0.9033\n",
            "Epoch 59/250\n",
            "216/216 [==============================] - 3s 13ms/step - loss: 0.1031 - accuracy: 0.9717 - val_loss: 0.7001 - val_accuracy: 0.8922\n",
            "Epoch 60/250\n",
            "216/216 [==============================] - 3s 13ms/step - loss: 0.1472 - accuracy: 0.9622 - val_loss: 0.7719 - val_accuracy: 0.8844\n",
            "Epoch 61/250\n",
            "216/216 [==============================] - 3s 14ms/step - loss: 0.1494 - accuracy: 0.9638 - val_loss: 0.5552 - val_accuracy: 0.8933\n",
            "Epoch 62/250\n",
            "216/216 [==============================] - 3s 14ms/step - loss: 0.0938 - accuracy: 0.9751 - val_loss: 0.6059 - val_accuracy: 0.8878\n",
            "Epoch 63/250\n",
            "216/216 [==============================] - 3s 13ms/step - loss: 0.1268 - accuracy: 0.9661 - val_loss: 0.9342 - val_accuracy: 0.8633\n",
            "Epoch 64/250\n",
            "216/216 [==============================] - 3s 14ms/step - loss: 0.0982 - accuracy: 0.9719 - val_loss: 0.6910 - val_accuracy: 0.8967\n",
            "Epoch 65/250\n",
            "216/216 [==============================] - 3s 13ms/step - loss: 0.0982 - accuracy: 0.9732 - val_loss: 0.6045 - val_accuracy: 0.8922\n",
            "Epoch 66/250\n",
            "216/216 [==============================] - 3s 14ms/step - loss: 0.1252 - accuracy: 0.9643 - val_loss: 0.6518 - val_accuracy: 0.8944\n",
            "Epoch 67/250\n",
            "216/216 [==============================] - 3s 13ms/step - loss: 0.1300 - accuracy: 0.9677 - val_loss: 0.5824 - val_accuracy: 0.8944\n",
            "Epoch 68/250\n",
            "216/216 [==============================] - 3s 13ms/step - loss: 0.0961 - accuracy: 0.9719 - val_loss: 0.5034 - val_accuracy: 0.8989\n",
            "Epoch 69/250\n",
            "216/216 [==============================] - 3s 13ms/step - loss: 0.1030 - accuracy: 0.9706 - val_loss: 0.7951 - val_accuracy: 0.8978\n",
            "Epoch 70/250\n",
            "216/216 [==============================] - 3s 14ms/step - loss: 0.1064 - accuracy: 0.9723 - val_loss: 0.5838 - val_accuracy: 0.8956\n",
            "Epoch 71/250\n",
            "216/216 [==============================] - 3s 14ms/step - loss: 0.1341 - accuracy: 0.9670 - val_loss: 0.5820 - val_accuracy: 0.8944\n",
            "Epoch 72/250\n",
            "216/216 [==============================] - 3s 14ms/step - loss: 0.1080 - accuracy: 0.9688 - val_loss: 0.5227 - val_accuracy: 0.8767\n",
            "Epoch 73/250\n",
            "216/216 [==============================] - 3s 13ms/step - loss: 0.0805 - accuracy: 0.9765 - val_loss: 0.6800 - val_accuracy: 0.8978\n",
            "Epoch 74/250\n",
            "216/216 [==============================] - 3s 13ms/step - loss: 0.1200 - accuracy: 0.9687 - val_loss: 0.7073 - val_accuracy: 0.8922\n",
            "Epoch 75/250\n",
            "216/216 [==============================] - 3s 14ms/step - loss: 0.1082 - accuracy: 0.9703 - val_loss: 0.7020 - val_accuracy: 0.8978\n",
            "Epoch 76/250\n",
            "216/216 [==============================] - 3s 13ms/step - loss: 0.1011 - accuracy: 0.9725 - val_loss: 0.6997 - val_accuracy: 0.8933\n",
            "Epoch 77/250\n",
            "216/216 [==============================] - 3s 14ms/step - loss: 0.1017 - accuracy: 0.9742 - val_loss: 0.6114 - val_accuracy: 0.8956\n",
            "Epoch 78/250\n",
            "216/216 [==============================] - 3s 13ms/step - loss: 0.0760 - accuracy: 0.9767 - val_loss: 0.6495 - val_accuracy: 0.9044\n",
            "Epoch 79/250\n",
            "216/216 [==============================] - 3s 13ms/step - loss: 0.0911 - accuracy: 0.9726 - val_loss: 0.5772 - val_accuracy: 0.8967\n",
            "Epoch 80/250\n",
            "216/216 [==============================] - 3s 13ms/step - loss: 0.1033 - accuracy: 0.9709 - val_loss: 0.7484 - val_accuracy: 0.8678\n",
            "Epoch 81/250\n",
            "216/216 [==============================] - 3s 14ms/step - loss: 0.1111 - accuracy: 0.9681 - val_loss: 0.8176 - val_accuracy: 0.8900\n",
            "Epoch 82/250\n",
            "216/216 [==============================] - 3s 14ms/step - loss: 0.0809 - accuracy: 0.9780 - val_loss: 0.5598 - val_accuracy: 0.9011\n",
            "Epoch 83/250\n",
            "216/216 [==============================] - 3s 14ms/step - loss: 0.1084 - accuracy: 0.9713 - val_loss: 0.5986 - val_accuracy: 0.8900\n",
            "Epoch 84/250\n",
            "216/216 [==============================] - 3s 14ms/step - loss: 0.1198 - accuracy: 0.9672 - val_loss: 0.6899 - val_accuracy: 0.8933\n",
            "Epoch 85/250\n",
            "216/216 [==============================] - 3s 13ms/step - loss: 0.0930 - accuracy: 0.9751 - val_loss: 0.7724 - val_accuracy: 0.8878\n",
            "Epoch 86/250\n",
            "216/216 [==============================] - 3s 14ms/step - loss: 0.1122 - accuracy: 0.9693 - val_loss: 0.5792 - val_accuracy: 0.8967\n",
            "Epoch 87/250\n",
            "216/216 [==============================] - 3s 14ms/step - loss: 0.1498 - accuracy: 0.9661 - val_loss: 0.6304 - val_accuracy: 0.8856\n",
            "Epoch 88/250\n",
            "216/216 [==============================] - 3s 13ms/step - loss: 0.1142 - accuracy: 0.9687 - val_loss: 0.6441 - val_accuracy: 0.8933\n",
            "Epoch 89/250\n",
            "216/216 [==============================] - 3s 14ms/step - loss: 0.0772 - accuracy: 0.9771 - val_loss: 0.6354 - val_accuracy: 0.9033\n",
            "Epoch 90/250\n",
            "216/216 [==============================] - 3s 14ms/step - loss: 0.1056 - accuracy: 0.9725 - val_loss: 0.8048 - val_accuracy: 0.8967\n",
            "Epoch 91/250\n",
            "216/216 [==============================] - 3s 13ms/step - loss: 0.1127 - accuracy: 0.9686 - val_loss: 0.8110 - val_accuracy: 0.8933\n",
            "Epoch 92/250\n",
            "216/216 [==============================] - 3s 13ms/step - loss: 0.0969 - accuracy: 0.9739 - val_loss: 0.6812 - val_accuracy: 0.8967\n",
            "Epoch 93/250\n",
            "216/216 [==============================] - 3s 14ms/step - loss: 0.0831 - accuracy: 0.9768 - val_loss: 0.8106 - val_accuracy: 0.8844\n",
            "Epoch 94/250\n",
            "216/216 [==============================] - 3s 13ms/step - loss: 0.1003 - accuracy: 0.9757 - val_loss: 0.6703 - val_accuracy: 0.8967\n",
            "Epoch 95/250\n",
            "216/216 [==============================] - 3s 13ms/step - loss: 0.1249 - accuracy: 0.9707 - val_loss: 0.6848 - val_accuracy: 0.9056\n",
            "Epoch 96/250\n",
            "216/216 [==============================] - 3s 14ms/step - loss: 0.0982 - accuracy: 0.9757 - val_loss: 0.7655 - val_accuracy: 0.8889\n",
            "Epoch 97/250\n",
            "216/216 [==============================] - 3s 14ms/step - loss: 0.0956 - accuracy: 0.9739 - val_loss: 0.8210 - val_accuracy: 0.8978\n",
            "Epoch 98/250\n",
            "216/216 [==============================] - 3s 13ms/step - loss: 0.1113 - accuracy: 0.9726 - val_loss: 0.7210 - val_accuracy: 0.8811\n",
            "Epoch 99/250\n",
            "216/216 [==============================] - 3s 13ms/step - loss: 0.0950 - accuracy: 0.9745 - val_loss: 0.6990 - val_accuracy: 0.9000\n",
            "Epoch 100/250\n",
            "216/216 [==============================] - 3s 13ms/step - loss: 0.0825 - accuracy: 0.9752 - val_loss: 0.7465 - val_accuracy: 0.8922\n",
            "Epoch 101/250\n",
            "216/216 [==============================] - 3s 13ms/step - loss: 0.0750 - accuracy: 0.9790 - val_loss: 0.9238 - val_accuracy: 0.8867\n",
            "Epoch 102/250\n",
            "216/216 [==============================] - 3s 14ms/step - loss: 0.0951 - accuracy: 0.9764 - val_loss: 0.8082 - val_accuracy: 0.8833\n",
            "Epoch 103/250\n",
            "216/216 [==============================] - 3s 13ms/step - loss: 0.1460 - accuracy: 0.9667 - val_loss: 0.7264 - val_accuracy: 0.8867\n",
            "Epoch 104/250\n",
            "216/216 [==============================] - 3s 13ms/step - loss: 0.0968 - accuracy: 0.9738 - val_loss: 0.7580 - val_accuracy: 0.8967\n",
            "Epoch 105/250\n",
            "216/216 [==============================] - 3s 14ms/step - loss: 0.0812 - accuracy: 0.9784 - val_loss: 0.7870 - val_accuracy: 0.8978\n",
            "Epoch 106/250\n",
            "216/216 [==============================] - 3s 13ms/step - loss: 0.0789 - accuracy: 0.9775 - val_loss: 0.7297 - val_accuracy: 0.9011\n",
            "Epoch 107/250\n",
            "216/216 [==============================] - 3s 13ms/step - loss: 0.0949 - accuracy: 0.9757 - val_loss: 0.9526 - val_accuracy: 0.8967\n",
            "Epoch 108/250\n",
            "216/216 [==============================] - 3s 14ms/step - loss: 0.1396 - accuracy: 0.9675 - val_loss: 0.6876 - val_accuracy: 0.8889\n",
            "Epoch 109/250\n",
            "216/216 [==============================] - 3s 14ms/step - loss: 0.0932 - accuracy: 0.9772 - val_loss: 1.0004 - val_accuracy: 0.8733\n",
            "Epoch 110/250\n",
            "216/216 [==============================] - 3s 13ms/step - loss: 0.0812 - accuracy: 0.9771 - val_loss: 0.7146 - val_accuracy: 0.9044\n",
            "Epoch 111/250\n",
            "216/216 [==============================] - 3s 13ms/step - loss: 0.0798 - accuracy: 0.9787 - val_loss: 0.5938 - val_accuracy: 0.9022\n",
            "Epoch 112/250\n",
            "216/216 [==============================] - 3s 14ms/step - loss: 0.0639 - accuracy: 0.9810 - val_loss: 0.7127 - val_accuracy: 0.8933\n",
            "Epoch 113/250\n",
            "216/216 [==============================] - 3s 14ms/step - loss: 0.0508 - accuracy: 0.9854 - val_loss: 0.7007 - val_accuracy: 0.8911\n",
            "Epoch 114/250\n",
            "216/216 [==============================] - 3s 13ms/step - loss: 0.0688 - accuracy: 0.9801 - val_loss: 0.7875 - val_accuracy: 0.8889\n",
            "Epoch 115/250\n",
            "216/216 [==============================] - 3s 14ms/step - loss: 0.0550 - accuracy: 0.9813 - val_loss: 0.7176 - val_accuracy: 0.8889\n",
            "Epoch 116/250\n",
            "216/216 [==============================] - 3s 13ms/step - loss: 0.0804 - accuracy: 0.9777 - val_loss: 0.9373 - val_accuracy: 0.8844\n",
            "Epoch 117/250\n",
            "216/216 [==============================] - 3s 14ms/step - loss: 0.0737 - accuracy: 0.9816 - val_loss: 1.1743 - val_accuracy: 0.8911\n",
            "Epoch 118/250\n",
            "216/216 [==============================] - 3s 14ms/step - loss: 0.1089 - accuracy: 0.9741 - val_loss: 0.7326 - val_accuracy: 0.8878\n",
            "Epoch 119/250\n",
            "216/216 [==============================] - 3s 14ms/step - loss: 0.1596 - accuracy: 0.9654 - val_loss: 0.8677 - val_accuracy: 0.8878\n",
            "Epoch 120/250\n",
            "216/216 [==============================] - 3s 13ms/step - loss: 0.0629 - accuracy: 0.9803 - val_loss: 0.9928 - val_accuracy: 0.8911\n",
            "Epoch 121/250\n",
            "216/216 [==============================] - 3s 14ms/step - loss: 0.1093 - accuracy: 0.9723 - val_loss: 0.8571 - val_accuracy: 0.8956\n",
            "Epoch 122/250\n",
            "216/216 [==============================] - 3s 15ms/step - loss: 0.0755 - accuracy: 0.9787 - val_loss: 0.9995 - val_accuracy: 0.8944\n",
            "Epoch 123/250\n",
            "216/216 [==============================] - 3s 14ms/step - loss: 0.0729 - accuracy: 0.9768 - val_loss: 0.8565 - val_accuracy: 0.8911\n",
            "Epoch 124/250\n",
            "216/216 [==============================] - 3s 14ms/step - loss: 0.0734 - accuracy: 0.9814 - val_loss: 0.8940 - val_accuracy: 0.9011\n",
            "Epoch 125/250\n",
            "216/216 [==============================] - 3s 14ms/step - loss: 0.0905 - accuracy: 0.9810 - val_loss: 0.6220 - val_accuracy: 0.8500\n",
            "Epoch 126/250\n",
            "216/216 [==============================] - 3s 13ms/step - loss: 0.1056 - accuracy: 0.9767 - val_loss: 0.8684 - val_accuracy: 0.8844\n",
            "Epoch 127/250\n",
            "216/216 [==============================] - 3s 14ms/step - loss: 0.0753 - accuracy: 0.9797 - val_loss: 0.6099 - val_accuracy: 0.9067\n",
            "Epoch 128/250\n",
            "216/216 [==============================] - 3s 13ms/step - loss: 0.0683 - accuracy: 0.9829 - val_loss: 0.9115 - val_accuracy: 0.8967\n",
            "Epoch 129/250\n",
            "216/216 [==============================] - 3s 14ms/step - loss: 0.1304 - accuracy: 0.9719 - val_loss: 1.3245 - val_accuracy: 0.8756\n",
            "Epoch 130/250\n",
            "216/216 [==============================] - 3s 14ms/step - loss: 0.1107 - accuracy: 0.9772 - val_loss: 1.1600 - val_accuracy: 0.8800\n",
            "Epoch 131/250\n",
            "216/216 [==============================] - 3s 13ms/step - loss: 0.1048 - accuracy: 0.9736 - val_loss: 1.2916 - val_accuracy: 0.8756\n",
            "Epoch 132/250\n",
            "216/216 [==============================] - 3s 13ms/step - loss: 0.1015 - accuracy: 0.9758 - val_loss: 0.7728 - val_accuracy: 0.8867\n",
            "Epoch 133/250\n",
            "216/216 [==============================] - 3s 14ms/step - loss: 0.0675 - accuracy: 0.9800 - val_loss: 0.8365 - val_accuracy: 0.8833\n",
            "Epoch 134/250\n",
            "216/216 [==============================] - 3s 13ms/step - loss: 0.0709 - accuracy: 0.9810 - val_loss: 0.8670 - val_accuracy: 0.9022\n",
            "Epoch 135/250\n",
            "216/216 [==============================] - 3s 14ms/step - loss: 0.0725 - accuracy: 0.9829 - val_loss: 0.7019 - val_accuracy: 0.8933\n",
            "Epoch 136/250\n",
            "216/216 [==============================] - 3s 13ms/step - loss: 0.0708 - accuracy: 0.9819 - val_loss: 0.7334 - val_accuracy: 0.8944\n",
            "Epoch 137/250\n",
            "216/216 [==============================] - 3s 14ms/step - loss: 0.0527 - accuracy: 0.9851 - val_loss: 0.7891 - val_accuracy: 0.9000\n",
            "Epoch 138/250\n",
            "216/216 [==============================] - 3s 14ms/step - loss: 0.0651 - accuracy: 0.9826 - val_loss: 0.8634 - val_accuracy: 0.8967\n",
            "Epoch 139/250\n",
            "216/216 [==============================] - 3s 14ms/step - loss: 0.0671 - accuracy: 0.9825 - val_loss: 0.9118 - val_accuracy: 0.8878\n",
            "Epoch 140/250\n",
            "216/216 [==============================] - 3s 14ms/step - loss: 0.1093 - accuracy: 0.9761 - val_loss: 0.9188 - val_accuracy: 0.8989\n",
            "Epoch 141/250\n",
            "216/216 [==============================] - 3s 13ms/step - loss: 0.0948 - accuracy: 0.9775 - val_loss: 0.7845 - val_accuracy: 0.8889\n",
            "Epoch 142/250\n",
            "216/216 [==============================] - 3s 13ms/step - loss: 0.1026 - accuracy: 0.9745 - val_loss: 0.5733 - val_accuracy: 0.8956\n",
            "Epoch 143/250\n",
            "216/216 [==============================] - 3s 14ms/step - loss: 0.0804 - accuracy: 0.9783 - val_loss: 0.8936 - val_accuracy: 0.8867\n",
            "Epoch 144/250\n",
            "216/216 [==============================] - 3s 13ms/step - loss: 0.0798 - accuracy: 0.9801 - val_loss: 0.7695 - val_accuracy: 0.8978\n",
            "Epoch 145/250\n",
            "216/216 [==============================] - 3s 13ms/step - loss: 0.0666 - accuracy: 0.9836 - val_loss: 0.7186 - val_accuracy: 0.9033\n",
            "Epoch 146/250\n",
            "216/216 [==============================] - 3s 13ms/step - loss: 0.0869 - accuracy: 0.9803 - val_loss: 0.8511 - val_accuracy: 0.8867\n",
            "Epoch 147/250\n",
            "216/216 [==============================] - 3s 14ms/step - loss: 0.0616 - accuracy: 0.9826 - val_loss: 0.7889 - val_accuracy: 0.8833\n",
            "Epoch 148/250\n",
            "216/216 [==============================] - 3s 14ms/step - loss: 0.0894 - accuracy: 0.9788 - val_loss: 1.0430 - val_accuracy: 0.8811\n",
            "Epoch 149/250\n",
            "216/216 [==============================] - 3s 13ms/step - loss: 0.0867 - accuracy: 0.9781 - val_loss: 0.7639 - val_accuracy: 0.8878\n",
            "Epoch 150/250\n",
            "216/216 [==============================] - 3s 13ms/step - loss: 0.1179 - accuracy: 0.9770 - val_loss: 0.6863 - val_accuracy: 0.8544\n",
            "Epoch 151/250\n",
            "216/216 [==============================] - 3s 13ms/step - loss: 0.1232 - accuracy: 0.9716 - val_loss: 0.9437 - val_accuracy: 0.8856\n",
            "Epoch 152/250\n",
            "216/216 [==============================] - 3s 14ms/step - loss: 0.1026 - accuracy: 0.9755 - val_loss: 0.7624 - val_accuracy: 0.9011\n",
            "Epoch 153/250\n",
            "216/216 [==============================] - 3s 13ms/step - loss: 0.0584 - accuracy: 0.9835 - val_loss: 0.8925 - val_accuracy: 0.9067\n",
            "Epoch 154/250\n",
            "216/216 [==============================] - 3s 13ms/step - loss: 0.1011 - accuracy: 0.9772 - val_loss: 1.1353 - val_accuracy: 0.8733\n",
            "Epoch 155/250\n",
            "216/216 [==============================] - 3s 14ms/step - loss: 0.0801 - accuracy: 0.9790 - val_loss: 0.9108 - val_accuracy: 0.8944\n",
            "Epoch 156/250\n",
            "216/216 [==============================] - 3s 14ms/step - loss: 0.0787 - accuracy: 0.9800 - val_loss: 0.9477 - val_accuracy: 0.8856\n",
            "Epoch 157/250\n",
            "216/216 [==============================] - 3s 13ms/step - loss: 0.0757 - accuracy: 0.9804 - val_loss: 0.9340 - val_accuracy: 0.9000\n",
            "Epoch 158/250\n",
            "216/216 [==============================] - 3s 14ms/step - loss: 0.0628 - accuracy: 0.9829 - val_loss: 0.8368 - val_accuracy: 0.8922\n",
            "Epoch 159/250\n",
            "216/216 [==============================] - 3s 13ms/step - loss: 0.0648 - accuracy: 0.9835 - val_loss: 0.8525 - val_accuracy: 0.8878\n",
            "Epoch 160/250\n",
            "216/216 [==============================] - 3s 13ms/step - loss: 0.0939 - accuracy: 0.9790 - val_loss: 0.9275 - val_accuracy: 0.8933\n",
            "Epoch 161/250\n",
            "216/216 [==============================] - 3s 14ms/step - loss: 0.0793 - accuracy: 0.9799 - val_loss: 0.6873 - val_accuracy: 0.8967\n",
            "Epoch 162/250\n",
            "216/216 [==============================] - 3s 14ms/step - loss: 0.0670 - accuracy: 0.9828 - val_loss: 0.7673 - val_accuracy: 0.8967\n",
            "Epoch 163/250\n",
            "216/216 [==============================] - 3s 13ms/step - loss: 0.0795 - accuracy: 0.9816 - val_loss: 0.9201 - val_accuracy: 0.8878\n",
            "Epoch 164/250\n",
            "216/216 [==============================] - 3s 13ms/step - loss: 0.0894 - accuracy: 0.9786 - val_loss: 0.8059 - val_accuracy: 0.8878\n",
            "Epoch 165/250\n",
            "216/216 [==============================] - 3s 13ms/step - loss: 0.0703 - accuracy: 0.9845 - val_loss: 0.8043 - val_accuracy: 0.8922\n",
            "Epoch 166/250\n",
            "216/216 [==============================] - 3s 14ms/step - loss: 0.0581 - accuracy: 0.9845 - val_loss: 1.1211 - val_accuracy: 0.8789\n",
            "Epoch 167/250\n",
            "216/216 [==============================] - 3s 14ms/step - loss: 0.0844 - accuracy: 0.9807 - val_loss: 0.8303 - val_accuracy: 0.8756\n",
            "Epoch 168/250\n",
            "216/216 [==============================] - 3s 14ms/step - loss: 0.0842 - accuracy: 0.9788 - val_loss: 0.7495 - val_accuracy: 0.8878\n",
            "Epoch 169/250\n",
            "216/216 [==============================] - 3s 13ms/step - loss: 0.0557 - accuracy: 0.9846 - val_loss: 0.9100 - val_accuracy: 0.8856\n",
            "Epoch 170/250\n",
            "216/216 [==============================] - 3s 13ms/step - loss: 0.0921 - accuracy: 0.9799 - val_loss: 0.7732 - val_accuracy: 0.8800\n",
            "Epoch 171/250\n",
            "216/216 [==============================] - 3s 14ms/step - loss: 0.1150 - accuracy: 0.9725 - val_loss: 1.1296 - val_accuracy: 0.8833\n",
            "Epoch 172/250\n",
            "216/216 [==============================] - 3s 13ms/step - loss: 0.1052 - accuracy: 0.9790 - val_loss: 0.7565 - val_accuracy: 0.8856\n",
            "Epoch 173/250\n",
            "216/216 [==============================] - 3s 13ms/step - loss: 0.0659 - accuracy: 0.9830 - val_loss: 0.9036 - val_accuracy: 0.8878\n",
            "Epoch 174/250\n",
            "216/216 [==============================] - 3s 14ms/step - loss: 0.0644 - accuracy: 0.9833 - val_loss: 1.3146 - val_accuracy: 0.8911\n",
            "Epoch 175/250\n",
            "216/216 [==============================] - 3s 13ms/step - loss: 0.0512 - accuracy: 0.9861 - val_loss: 1.0104 - val_accuracy: 0.8967\n",
            "Epoch 176/250\n",
            "216/216 [==============================] - 3s 13ms/step - loss: 0.1174 - accuracy: 0.9765 - val_loss: 0.8686 - val_accuracy: 0.8933\n",
            "Epoch 177/250\n",
            "216/216 [==============================] - 3s 14ms/step - loss: 0.0733 - accuracy: 0.9825 - val_loss: 0.9494 - val_accuracy: 0.8856\n",
            "Epoch 178/250\n",
            "216/216 [==============================] - 3s 14ms/step - loss: 0.0823 - accuracy: 0.9803 - val_loss: 0.6797 - val_accuracy: 0.8900\n",
            "Epoch 179/250\n",
            "216/216 [==============================] - 3s 14ms/step - loss: 0.0519 - accuracy: 0.9851 - val_loss: 1.0022 - val_accuracy: 0.8867\n",
            "Epoch 180/250\n",
            "216/216 [==============================] - 3s 13ms/step - loss: 0.1177 - accuracy: 0.9788 - val_loss: 1.1241 - val_accuracy: 0.8844\n",
            "Epoch 181/250\n",
            "216/216 [==============================] - 3s 13ms/step - loss: 0.0790 - accuracy: 0.9810 - val_loss: 0.7774 - val_accuracy: 0.9011\n",
            "Epoch 182/250\n",
            "216/216 [==============================] - 3s 14ms/step - loss: 0.0657 - accuracy: 0.9845 - val_loss: 0.8221 - val_accuracy: 0.8967\n",
            "Epoch 183/250\n",
            "216/216 [==============================] - 3s 13ms/step - loss: 0.0508 - accuracy: 0.9864 - val_loss: 0.8814 - val_accuracy: 0.8833\n",
            "Epoch 184/250\n",
            "216/216 [==============================] - 3s 14ms/step - loss: 0.0473 - accuracy: 0.9861 - val_loss: 0.8333 - val_accuracy: 0.8900\n",
            "Epoch 185/250\n",
            "216/216 [==============================] - 3s 14ms/step - loss: 0.0531 - accuracy: 0.9862 - val_loss: 0.8014 - val_accuracy: 0.8922\n",
            "Epoch 186/250\n",
            "216/216 [==============================] - 3s 13ms/step - loss: 0.0979 - accuracy: 0.9799 - val_loss: 1.1495 - val_accuracy: 0.8922\n",
            "Epoch 187/250\n",
            "216/216 [==============================] - 3s 14ms/step - loss: 0.1080 - accuracy: 0.9771 - val_loss: 0.9355 - val_accuracy: 0.8600\n",
            "Epoch 188/250\n",
            "216/216 [==============================] - 3s 14ms/step - loss: 0.0677 - accuracy: 0.9829 - val_loss: 0.8756 - val_accuracy: 0.8944\n",
            "Epoch 189/250\n",
            "216/216 [==============================] - 3s 14ms/step - loss: 0.0727 - accuracy: 0.9816 - val_loss: 0.9714 - val_accuracy: 0.8900\n",
            "Epoch 190/250\n",
            "216/216 [==============================] - 3s 15ms/step - loss: 0.0636 - accuracy: 0.9841 - val_loss: 0.6937 - val_accuracy: 0.8944\n",
            "Epoch 191/250\n",
            "216/216 [==============================] - 3s 14ms/step - loss: 0.0717 - accuracy: 0.9832 - val_loss: 0.6596 - val_accuracy: 0.8900\n",
            "Epoch 192/250\n",
            "216/216 [==============================] - 3s 13ms/step - loss: 0.0599 - accuracy: 0.9841 - val_loss: 0.8838 - val_accuracy: 0.8900\n",
            "Epoch 193/250\n",
            "216/216 [==============================] - 3s 14ms/step - loss: 0.1173 - accuracy: 0.9790 - val_loss: 1.0222 - val_accuracy: 0.8644\n",
            "Epoch 194/250\n",
            "216/216 [==============================] - 3s 13ms/step - loss: 0.1106 - accuracy: 0.9764 - val_loss: 1.2774 - val_accuracy: 0.8689\n",
            "Epoch 195/250\n",
            "216/216 [==============================] - 3s 13ms/step - loss: 0.0905 - accuracy: 0.9775 - val_loss: 0.8070 - val_accuracy: 0.8922\n",
            "Epoch 196/250\n",
            "216/216 [==============================] - 3s 14ms/step - loss: 0.0807 - accuracy: 0.9809 - val_loss: 0.9611 - val_accuracy: 0.8878\n",
            "Epoch 197/250\n",
            "216/216 [==============================] - 3s 13ms/step - loss: 0.0753 - accuracy: 0.9835 - val_loss: 1.1375 - val_accuracy: 0.8867\n",
            "Epoch 198/250\n",
            "216/216 [==============================] - 3s 13ms/step - loss: 0.0908 - accuracy: 0.9778 - val_loss: 0.6995 - val_accuracy: 0.8889\n",
            "Epoch 199/250\n",
            "216/216 [==============================] - 3s 13ms/step - loss: 0.0454 - accuracy: 0.9870 - val_loss: 0.9499 - val_accuracy: 0.8967\n",
            "Epoch 200/250\n",
            "216/216 [==============================] - 3s 13ms/step - loss: 0.0536 - accuracy: 0.9870 - val_loss: 1.0180 - val_accuracy: 0.8978\n",
            "Epoch 201/250\n",
            "216/216 [==============================] - 3s 13ms/step - loss: 0.0585 - accuracy: 0.9858 - val_loss: 1.0607 - val_accuracy: 0.8833\n",
            "Epoch 202/250\n",
            "216/216 [==============================] - 3s 14ms/step - loss: 0.0632 - accuracy: 0.9838 - val_loss: 0.9952 - val_accuracy: 0.8956\n",
            "Epoch 203/250\n",
            "216/216 [==============================] - 3s 13ms/step - loss: 0.0829 - accuracy: 0.9832 - val_loss: 0.7423 - val_accuracy: 0.8778\n",
            "Epoch 204/250\n",
            "216/216 [==============================] - 3s 13ms/step - loss: 0.0601 - accuracy: 0.9865 - val_loss: 2.0312 - val_accuracy: 0.8578\n",
            "Epoch 205/250\n",
            "216/216 [==============================] - 3s 14ms/step - loss: 0.1224 - accuracy: 0.9786 - val_loss: 1.3048 - val_accuracy: 0.8878\n",
            "Epoch 206/250\n",
            "216/216 [==============================] - 3s 14ms/step - loss: 0.0478 - accuracy: 0.9881 - val_loss: 1.3352 - val_accuracy: 0.8956\n",
            "Epoch 207/250\n",
            "216/216 [==============================] - 3s 13ms/step - loss: 0.0611 - accuracy: 0.9846 - val_loss: 0.7722 - val_accuracy: 0.8700\n",
            "Epoch 208/250\n",
            "216/216 [==============================] - 3s 13ms/step - loss: 0.1427 - accuracy: 0.9736 - val_loss: 0.9925 - val_accuracy: 0.8656\n",
            "Epoch 209/250\n",
            "216/216 [==============================] - 3s 14ms/step - loss: 0.0684 - accuracy: 0.9830 - val_loss: 0.9430 - val_accuracy: 0.8756\n",
            "Epoch 210/250\n",
            "216/216 [==============================] - 3s 13ms/step - loss: 0.0675 - accuracy: 0.9822 - val_loss: 0.9111 - val_accuracy: 0.8867\n",
            "Epoch 211/250\n",
            "216/216 [==============================] - 3s 13ms/step - loss: 0.0698 - accuracy: 0.9851 - val_loss: 1.2873 - val_accuracy: 0.8722\n",
            "Epoch 212/250\n",
            "216/216 [==============================] - 3s 13ms/step - loss: 0.0625 - accuracy: 0.9828 - val_loss: 1.1930 - val_accuracy: 0.8822\n",
            "Epoch 213/250\n",
            "216/216 [==============================] - 3s 13ms/step - loss: 0.0670 - accuracy: 0.9842 - val_loss: 1.1856 - val_accuracy: 0.8578\n",
            "Epoch 214/250\n",
            "216/216 [==============================] - 3s 14ms/step - loss: 0.0595 - accuracy: 0.9832 - val_loss: 1.1509 - val_accuracy: 0.8867\n",
            "Epoch 215/250\n",
            "216/216 [==============================] - 3s 13ms/step - loss: 0.0712 - accuracy: 0.9832 - val_loss: 1.0708 - val_accuracy: 0.8844\n",
            "Epoch 216/250\n",
            "216/216 [==============================] - 3s 14ms/step - loss: 0.1072 - accuracy: 0.9768 - val_loss: 0.9806 - val_accuracy: 0.8867\n",
            "Epoch 217/250\n",
            "216/216 [==============================] - 3s 14ms/step - loss: 0.0525 - accuracy: 0.9862 - val_loss: 1.1811 - val_accuracy: 0.9000\n",
            "Epoch 218/250\n",
            "216/216 [==============================] - 3s 13ms/step - loss: 0.0683 - accuracy: 0.9836 - val_loss: 1.2298 - val_accuracy: 0.8944\n",
            "Epoch 219/250\n",
            "216/216 [==============================] - 3s 14ms/step - loss: 0.0509 - accuracy: 0.9862 - val_loss: 1.1988 - val_accuracy: 0.8856\n",
            "Epoch 220/250\n",
            "216/216 [==============================] - 3s 14ms/step - loss: 0.1251 - accuracy: 0.9765 - val_loss: 0.9745 - val_accuracy: 0.8878\n",
            "Epoch 221/250\n",
            "216/216 [==============================] - 3s 13ms/step - loss: 0.0876 - accuracy: 0.9814 - val_loss: 0.9339 - val_accuracy: 0.8878\n",
            "Epoch 222/250\n",
            "216/216 [==============================] - 3s 13ms/step - loss: 0.0618 - accuracy: 0.9852 - val_loss: 0.9240 - val_accuracy: 0.8911\n",
            "Epoch 223/250\n",
            "216/216 [==============================] - 3s 13ms/step - loss: 0.0704 - accuracy: 0.9826 - val_loss: 1.1461 - val_accuracy: 0.8967\n",
            "Epoch 224/250\n",
            "216/216 [==============================] - 3s 13ms/step - loss: 0.0624 - accuracy: 0.9861 - val_loss: 0.9568 - val_accuracy: 0.8789\n",
            "Epoch 225/250\n",
            "216/216 [==============================] - 3s 14ms/step - loss: 0.0640 - accuracy: 0.9836 - val_loss: 1.0734 - val_accuracy: 0.8922\n",
            "Epoch 226/250\n",
            "216/216 [==============================] - 3s 14ms/step - loss: 0.0706 - accuracy: 0.9843 - val_loss: 0.9727 - val_accuracy: 0.8889\n",
            "Epoch 227/250\n",
            "216/216 [==============================] - 3s 14ms/step - loss: 0.1068 - accuracy: 0.9800 - val_loss: 0.9749 - val_accuracy: 0.8856\n",
            "Epoch 228/250\n",
            "216/216 [==============================] - 3s 13ms/step - loss: 0.1094 - accuracy: 0.9783 - val_loss: 0.9441 - val_accuracy: 0.8756\n",
            "Epoch 229/250\n",
            "216/216 [==============================] - 3s 13ms/step - loss: 0.0587 - accuracy: 0.9861 - val_loss: 1.3536 - val_accuracy: 0.8989\n",
            "Epoch 230/250\n",
            "216/216 [==============================] - 3s 13ms/step - loss: 0.0685 - accuracy: 0.9851 - val_loss: 1.1664 - val_accuracy: 0.8922\n",
            "Epoch 231/250\n",
            "216/216 [==============================] - 3s 14ms/step - loss: 0.0689 - accuracy: 0.9859 - val_loss: 1.3456 - val_accuracy: 0.8900\n",
            "Epoch 232/250\n",
            "216/216 [==============================] - 3s 13ms/step - loss: 0.0807 - accuracy: 0.9825 - val_loss: 0.9579 - val_accuracy: 0.8922\n",
            "Epoch 233/250\n",
            "216/216 [==============================] - 3s 14ms/step - loss: 0.0678 - accuracy: 0.9859 - val_loss: 1.1162 - val_accuracy: 0.8967\n",
            "Epoch 234/250\n",
            "216/216 [==============================] - 3s 14ms/step - loss: 0.0513 - accuracy: 0.9877 - val_loss: 1.2899 - val_accuracy: 0.8911\n",
            "Epoch 235/250\n",
            "216/216 [==============================] - 3s 14ms/step - loss: 0.0664 - accuracy: 0.9861 - val_loss: 1.3896 - val_accuracy: 0.8889\n",
            "Epoch 236/250\n",
            "216/216 [==============================] - 3s 14ms/step - loss: 0.0825 - accuracy: 0.9833 - val_loss: 1.1915 - val_accuracy: 0.8822\n",
            "Epoch 237/250\n",
            "216/216 [==============================] - 3s 13ms/step - loss: 0.0626 - accuracy: 0.9849 - val_loss: 0.7466 - val_accuracy: 0.8789\n",
            "Epoch 238/250\n",
            "216/216 [==============================] - 3s 13ms/step - loss: 0.1067 - accuracy: 0.9768 - val_loss: 1.1364 - val_accuracy: 0.8833\n",
            "Epoch 239/250\n",
            "216/216 [==============================] - 3s 13ms/step - loss: 0.0781 - accuracy: 0.9833 - val_loss: 1.0269 - val_accuracy: 0.8933\n",
            "Epoch 240/250\n",
            "216/216 [==============================] - 3s 13ms/step - loss: 0.0557 - accuracy: 0.9858 - val_loss: 1.1206 - val_accuracy: 0.8844\n",
            "Epoch 241/250\n",
            "216/216 [==============================] - 3s 14ms/step - loss: 0.0777 - accuracy: 0.9830 - val_loss: 1.2209 - val_accuracy: 0.8756\n",
            "Epoch 242/250\n",
            "216/216 [==============================] - 3s 13ms/step - loss: 0.0745 - accuracy: 0.9843 - val_loss: 1.0150 - val_accuracy: 0.8856\n",
            "Epoch 243/250\n",
            "216/216 [==============================] - 3s 13ms/step - loss: 0.0659 - accuracy: 0.9865 - val_loss: 1.0873 - val_accuracy: 0.8867\n",
            "Epoch 244/250\n",
            "216/216 [==============================] - 3s 14ms/step - loss: 0.0626 - accuracy: 0.9836 - val_loss: 1.0707 - val_accuracy: 0.8844\n",
            "Epoch 245/250\n",
            "216/216 [==============================] - 3s 13ms/step - loss: 0.0417 - accuracy: 0.9893 - val_loss: 1.1791 - val_accuracy: 0.8944\n",
            "Epoch 246/250\n",
            "216/216 [==============================] - 3s 13ms/step - loss: 0.0467 - accuracy: 0.9878 - val_loss: 0.9435 - val_accuracy: 0.8844\n",
            "Epoch 247/250\n",
            "216/216 [==============================] - 3s 13ms/step - loss: 0.0750 - accuracy: 0.9843 - val_loss: 1.2513 - val_accuracy: 0.8800\n",
            "Epoch 248/250\n",
            "216/216 [==============================] - 3s 13ms/step - loss: 0.0590 - accuracy: 0.9883 - val_loss: 1.2660 - val_accuracy: 0.8822\n",
            "Epoch 249/250\n",
            "216/216 [==============================] - 3s 14ms/step - loss: 0.0910 - accuracy: 0.9803 - val_loss: 0.8724 - val_accuracy: 0.8700\n",
            "Epoch 250/250\n",
            "216/216 [==============================] - 3s 14ms/step - loss: 0.0625 - accuracy: 0.9874 - val_loss: 1.0896 - val_accuracy: 0.8667\n"
          ]
        }
      ]
    },
    {
      "cell_type": "markdown",
      "source": [
        "### 5. Eğitim metrikleri ve yorumlanması"
      ],
      "metadata": {
        "id": "hI0VmHP-PQNy"
      },
      "id": "hI0VmHP-PQNy"
    },
    {
      "cell_type": "code",
      "source": [
        "# Kayıp (loss) fonksiyonu grafiği\n",
        "plt.plot(results.history[\"loss\"], \"r.--\", label = \"train loss\")\n",
        "plt.plot(results.history[\"val_loss\"], \"b.--\", label = \"val loss\")\n",
        "plt.title(\"train vs validation kaybı\")\n",
        "plt.xlabel(\"epoch\")\n",
        "plt.ylabel(\"kayıp (loss)\")\n",
        "plt.legend()\n",
        "plt.grid(True)"
      ],
      "metadata": {
        "id": "jLZ3PkowMMKB",
        "outputId": "4c0b8431-89ac-485b-b27e-f1514f1b968d",
        "colab": {
          "base_uri": "https://localhost:8080/",
          "height": 295
        }
      },
      "id": "jLZ3PkowMMKB",
      "execution_count": 78,
      "outputs": [
        {
          "output_type": "display_data",
          "data": {
            "text/plain": [
              "<Figure size 432x288 with 1 Axes>"
            ],
            "image/png": "[encoded data removed]"
          },
          "metadata": {
            "needs_background": "light"
          }
        }
      ]
    },
    {
      "cell_type": "code",
      "source": [
        "# Doğruluk (accuracy) fonksiyonu grafiği\n",
        "plt.plot(results.history[\"accuracy\"], \"r.--\", label = \"train acc\")\n",
        "plt.plot(results.history[\"val_accuracy\"], \"b.--\", label = \"val acc\")\n",
        "plt.title(\"train vs validation doğruluğu\")\n",
        "plt.xlabel(\"epoch\")\n",
        "plt.ylabel(\"doğruluk (accuracy)\")\n",
        "plt.legend()\n",
        "plt.grid(True)\n",
        "plt.show()"
      ],
      "metadata": {
        "id": "Exqjb7eIOWVq",
        "outputId": "0626b462-ecb7-43f8-8400-4597e9402c8a",
        "colab": {
          "base_uri": "https://localhost:8080/",
          "height": 295
        }
      },
      "id": "Exqjb7eIOWVq",
      "execution_count": 79,
      "outputs": [
        {
          "output_type": "display_data",
          "data": {
            "text/plain": [
              "<Figure size 432x288 with 1 Axes>"
            ],
            "image/png": "[encoded data removed]"
          },
          "metadata": {
            "needs_background": "light"
          }
        }
      ]
    },
    {
      "cell_type": "markdown",
      "source": [
        "### 6. Nöral ağın test edilmesi"
      ],
      "metadata": {
        "id": "se8O356uPXiW"
      },
      "id": "se8O356uPXiW"
    },
    {
      "cell_type": "code",
      "source": [
        "net.evaluate(X_test, Y_test)"
      ],
      "metadata": {
        "id": "rL2sIOv-PheR",
        "outputId": "63a5b739-78cf-4181-8c62-4ef896c91baf",
        "colab": {
          "base_uri": "https://localhost:8080/"
        }
      },
      "id": "rL2sIOv-PheR",
      "execution_count": 80,
      "outputs": [
        {
          "output_type": "stream",
          "name": "stdout",
          "text": [
            "30/30 [==============================] - 0s 8ms/step - loss: 1.3493 - accuracy: 0.8734\n"
          ]
        },
        {
          "output_type": "execute_result",
          "data": {
            "text/plain": [
              "[1.3493056297302246, 0.8733905553817749]"
            ]
          },
          "metadata": {},
          "execution_count": 80
        }
      ]
    },
    {
      "cell_type": "markdown",
      "source": [
        "Bir örnek deneyelim:"
      ],
      "metadata": {
        "id": "ZyrCPfSoP3RK"
      },
      "id": "ZyrCPfSoP3RK"
    },
    {
      "cell_type": "code",
      "source": [
        "num = int(input(\"0 ile 932 arasında bir sayı girin: \"))\n",
        "tahmin_sonucu = net.predict(X_test[num].reshape(1, 64, 64, 1))\n",
        "print(f\"%{tahmin_sonucu.max()*100} ihtimalle {tahmin_sonucu.argmax()} sınıfına ait bir spektrogram.\")"
      ],
      "metadata": {
        "id": "Bn5TzGW6PmBm",
        "outputId": "ac71a3de-15b0-4435-993f-ff5c32a30b14",
        "colab": {
          "base_uri": "https://localhost:8080/"
        }
      },
      "id": "Bn5TzGW6PmBm",
      "execution_count": 97,
      "outputs": [
        {
          "output_type": "stream",
          "name": "stdout",
          "text": [
            "0 ile 932 arasında bir sayı girin: 0\n",
            "%99.99873638153076 ihtimalle 5 sınıfına ait bir spektrogram.\n"
          ]
        }
      ]
    },
    {
      "cell_type": "code",
      "source": [
        "plt.imshow(X_test[num])\n",
        "print(f\"Sınıf: {Y_test[num]}\")"
      ],
      "metadata": {
        "id": "Rj_ByLhXQiy0",
        "outputId": "cf1013a5-f5e9-475f-8fdb-e7c7c4bc691d",
        "colab": {
          "base_uri": "https://localhost:8080/",
          "height": 285
        }
      },
      "id": "Rj_ByLhXQiy0",
      "execution_count": 88,
      "outputs": [
        {
          "output_type": "stream",
          "name": "stdout",
          "text": [
            "Sınıf: 1\n"
          ]
        },
        {
          "output_type": "display_data",
          "data": {
            "text/plain": [
              "<Figure size 432x288 with 1 Axes>"
            ],
            "image/png": "[encoded data removed]"
          },
          "metadata": {
            "needs_background": "light"
          }
        }
      ]
    },
    {
      "cell_type": "markdown",
      "source": [
        "### 6.1 Confusion matrisi"
      ],
      "metadata": {
        "id": "dip8aX_7V_ny"
      },
      "id": "dip8aX_7V_ny"
    },
    {
      "cell_type": "code",
      "source": [
        "y_predicted = net.predict(X_test) # Nöral ağ tüm X_test değerlerini tahmin ediyor\n",
        "y_predicted_class = np.argmax(y_predicted, axis = 1) # İhtimal listesindeki en yüksek ihtimali seçiyoruz\n",
        "matrix = confusion_matrix(Y_test, y_predicted_class) # Karıştırma matrisini oluşturuyoruz\n",
        "\n",
        "f,ax = plt.subplots(figsize=(6, 6))\n",
        "sn.heatmap(matrix, annot=True, linewidths=0.01, cmap=\"Blues\", linecolor=\"gray\", fmt= '.1f', ax=ax)\n",
        "plt.xlabel(\"Tahmin edilen\")\n",
        "plt.ylabel(\"Gerçek\")\n",
        "plt.show()"
      ],
      "metadata": {
        "id": "Dj8aV2QAXcvc",
        "outputId": "bd3daf4c-a538-481c-9eea-b4c6610c2153",
        "colab": {
          "base_uri": "https://localhost:8080/",
          "height": 388
        }
      },
      "id": "Dj8aV2QAXcvc",
      "execution_count": 108,
      "outputs": [
        {
          "output_type": "display_data",
          "data": {
            "text/plain": [
              "<Figure size 432x432 with 2 Axes>"
            ],
            "image/png": "[encoded data removed]"
          },
          "metadata": {
            "needs_background": "light"
          }
        }
      ]
    },
    {
      "cell_type": "markdown",
      "source": [
        "### 7. Sonuç\n",
        "\n",
        "Baştan sona önişlediğimiz ve sonrasında içe aktardığımız veriyi kullanarak, sıfırdan oluşturduğumuz bir Konvülasyonel Nöral Ağı eğittik. Eğitim sırasında eğitim (train) ve doğrulama (validation) verisetleri üzerinde ortaya çıkan kayıp (loss) ve doğruluk (accuracy) metriklerini `matplotlib` ile plot ederek inceledik.\n",
        "\n",
        "Eğittiğimiz modeli daha önce hiç görmediği `test` veriseti üzerinde test ettik ve `%88`'lik bir doğruluk elde ettik.\n",
        "\n",
        "Son olarak kullanıcıdan alınan sayıya göre bir spektrogramı okuyan ve sınıfını tahmin eden kısmı ekledik."
      ],
      "metadata": {
        "id": "5j7h_1OzRGuF"
      },
      "id": "5j7h_1OzRGuF"
    },
    {
      "cell_type": "markdown",
      "source": [
        "AIYard ekibi\n",
        "\n",
        "- Ferit Yiğit BALABAN\n",
        "- Sıla Neval YAVUZ\n",
        "- Günnur ŞENTÜRK\n",
        "- Şeyma NURDAĞ\n",
        "- Mehmet Ali ERCAN"
      ],
      "metadata": {
        "id": "FynMhLOkSCNl"
      },
      "id": "FynMhLOkSCNl"
    }
  ],
  "metadata": {
    "kernelspec": {
      "display_name": "Python 3 (ipykernel)",
      "language": "python",
      "name": "python3"
    },
    "language_info": {
      "codemirror_mode": {
        "name": "ipython",
        "version": 3
      },
      "file_extension": ".py",
      "mimetype": "text/x-python",
      "name": "python",
      "nbconvert_exporter": "python",
      "pygments_lexer": "ipython3",
      "version": "3.10.7"
    },
    "colab": {
      "provenance": []
    },
    "accelerator": "GPU"
  },
  "nbformat": 4,
  "nbformat_minor": 5
}