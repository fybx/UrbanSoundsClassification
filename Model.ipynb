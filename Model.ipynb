{
 "cells": [
  {
   "cell_type": "markdown",
   "id": "ad51450c-0fe2-44ef-8f9f-fef82e787008",
   "metadata": {},
   "source": [
    "# UrbanSoundsClassification: AIYard"
   ]
  },
  {
   "cell_type": "markdown",
   "id": "b18c64d4-1bc2-4bf0-8b4a-2913126e13b5",
   "metadata": {},
   "source": [
    "Model.ipynb\n",
    "\n",
    "AIYard"
   ]
  },
  {
   "cell_type": "markdown",
   "id": "6451718f-3746-4b1b-bc66-71e36170ed89",
   "metadata": {
    "tags": []
   },
   "source": [
    "### 1. Kütüphanelerin içe aktarılması"
   ]
  },
  {
   "cell_type": "code",
   "execution_count": 13,
   "id": "a108dced-d4d0-4cc0-a0f7-53faa957d722",
   "metadata": {},
   "outputs": [
    {
     "ename": "ModuleNotFoundError",
     "evalue": "No module named 'tensorflow'",
     "output_type": "error",
     "traceback": [
      "\u001b[0;31m---------------------------------------------------------------------------\u001b[0m",
      "\u001b[0;31mModuleNotFoundError\u001b[0m                       Traceback (most recent call last)",
      "Cell \u001b[0;32mIn [13], line 3\u001b[0m\n\u001b[1;32m      1\u001b[0m \u001b[38;5;28;01mimport\u001b[39;00m \u001b[38;5;21;01mos\u001b[39;00m\n\u001b[1;32m      2\u001b[0m \u001b[38;5;28;01mimport\u001b[39;00m \u001b[38;5;21;01mnumpy\u001b[39;00m \u001b[38;5;28;01mas\u001b[39;00m \u001b[38;5;21;01mnp\u001b[39;00m\n\u001b[0;32m----> 3\u001b[0m \u001b[38;5;28;01mimport\u001b[39;00m \u001b[38;5;21;01mtensorflow\u001b[39;00m \u001b[38;5;28;01mas\u001b[39;00m \u001b[38;5;21;01mtf\u001b[39;00m\n",
      "\u001b[0;31mModuleNotFoundError\u001b[0m: No module named 'tensorflow'"
     ]
    }
   ],
   "source": [
    "import os\n",
    "import numpy as np\n",
    "import tensorflow as tf"
   ]
  },
  {
   "cell_type": "markdown",
   "id": "b62efad5-e776-496b-8aed-59b8ec53f246",
   "metadata": {
    "jp-MarkdownHeadingCollapsed": true,
    "tags": []
   },
   "source": [
    "### 2. Önişlenmiş verisetlerinin içe aktarılması\n",
    "Önişleme defterini kullanarak `preproc` klasörü altında oluşturduğumuz `train`, `val` ve `test` klasörlerindeki spektrogramları okuyup demetler halinde kaydederek başlıyoruz."
   ]
  },
  {
   "cell_type": "markdown",
   "id": "811040b9-2c68-4984-a05d-b4c308f6c3cf",
   "metadata": {},
   "source": [
    "#### 2.1. `train` klasöründeki spektrogramların okunması\n",
    "\n",
    "X_train ve Y_train listelerini elde edeceğiz. Her iki listede 6900 tane eleman bulunmalı. \n",
    "\n",
    "X_train'e spektrogram verisi olan (64, 64) boyutlu NumPy dizilerini, Y_train'e ise karşılık gelen sınıfın numarasını ekleyeceğiz."
   ]
  },
  {
   "cell_type": "code",
   "execution_count": 2,
   "id": "c038f2ab-a525-46f6-a80c-0b390d0ac68c",
   "metadata": {},
   "outputs": [],
   "source": [
    "X_train = []\n",
    "Y_train = []\n",
    "for path, subdirs, files in os.walk(\"/home/ferit/repos/UrbanSoundsClassification/preproc/train\"):\n",
    "    for name in files:\n",
    "        file = os.path.join(path, name)\n",
    "        spectrogram = np.load(file)\n",
    "        X_train.append(spectrogram)\n",
    "        Y_train.append(int(file.split('-')[2][0]))"
   ]
  },
  {
   "cell_type": "code",
   "execution_count": 3,
   "id": "a2d70039-d01c-4335-aff4-55674bdbe31b",
   "metadata": {},
   "outputs": [
    {
     "data": {
      "text/plain": [
       "True"
      ]
     },
     "execution_count": 3,
     "metadata": {},
     "output_type": "execute_result"
    }
   ],
   "source": [
    "len(X_train) == len(Y_train) == 6900"
   ]
  },
  {
   "cell_type": "markdown",
   "id": "416358f7-5e48-4149-a4fb-f5dee4a7045f",
   "metadata": {},
   "source": [
    "#### 2.2. `val` klasöründeki spektrogramların okunması\n",
    "\n",
    "X_val ve Y_val listelerini elde edeceğiz. Her iki listede 900 tane eleman bulunmalı."
   ]
  },
  {
   "cell_type": "code",
   "execution_count": 4,
   "id": "9161678b-d60c-4348-b7f9-9e2ce5a06402",
   "metadata": {},
   "outputs": [],
   "source": [
    "X_val = []\n",
    "Y_val = []\n",
    "for path, subdirs, files in os.walk(\"/home/ferit/repos/UrbanSoundsClassification/preproc/val\"):\n",
    "    for name in files:\n",
    "        file = os.path.join(path, name)\n",
    "        spectrogram = np.load(file)\n",
    "        X_val.append(spectrogram)\n",
    "        Y_val.append(int(file.split('-')[2][0]))"
   ]
  },
  {
   "cell_type": "code",
   "execution_count": 6,
   "id": "00c42e2a-3d10-4c85-8c98-9fbbf10ad37f",
   "metadata": {},
   "outputs": [
    {
     "data": {
      "text/plain": [
       "True"
      ]
     },
     "execution_count": 6,
     "metadata": {},
     "output_type": "execute_result"
    }
   ],
   "source": [
    "len(X_val) == len(Y_val) == 900"
   ]
  },
  {
   "cell_type": "markdown",
   "id": "3fe7f8f1-16ce-409b-bd93-67ab1dd7346a",
   "metadata": {},
   "source": [
    "#### 2.3. `test` klasöründeki spektrogramların okunması\n",
    "\n",
    "X_test ve Y_test listelerini elde edeceğiz. Her iki listede 935 tane eleman bulunmalı."
   ]
  },
  {
   "cell_type": "code",
   "execution_count": 5,
   "id": "550d07a8-1a95-4b7a-91ca-26c08755f44e",
   "metadata": {},
   "outputs": [],
   "source": [
    "X_test = []\n",
    "Y_test = []\n",
    "for path, subdirs, files in os.walk(\"/home/ferit/repos/UrbanSoundsClassification/preproc/test\"):\n",
    "    for name in files:\n",
    "        file = os.path.join(path, name)\n",
    "        spectrogram = np.load(file)\n",
    "        X_test.append(spectrogram)\n",
    "        Y_test.append(int(file.split('-')[2][0]))"
   ]
  },
  {
   "cell_type": "code",
   "execution_count": 9,
   "id": "6a4c534f-2b43-45f9-807b-949bae909ee9",
   "metadata": {},
   "outputs": [
    {
     "data": {
      "text/plain": [
       "True"
      ]
     },
     "execution_count": 9,
     "metadata": {},
     "output_type": "execute_result"
    }
   ],
   "source": [
    "len(X_test) == len(Y_test) == 935"
   ]
  },
  {
   "cell_type": "markdown",
   "id": "5dacf480-f726-4263-b1ca-a16e483df98c",
   "metadata": {},
   "source": [
    "### 3. Nöral ağın oluşturulması"
   ]
  },
  {
   "cell_type": "code",
   "execution_count": null,
   "id": "17c45519-f573-4afd-8448-d767abf7f7e2",
   "metadata": {},
   "outputs": [],
   "source": []
  }
 ],
 "metadata": {
  "kernelspec": {
   "display_name": "Python 3 (ipykernel)",
   "language": "python",
   "name": "python3"
  },
  "language_info": {
   "codemirror_mode": {
    "name": "ipython",
    "version": 3
   },
   "file_extension": ".py",
   "mimetype": "text/x-python",
   "name": "python",
   "nbconvert_exporter": "python",
   "pygments_lexer": "ipython3",
   "version": "3.10.7"
  }
 },
 "nbformat": 4,
 "nbformat_minor": 5
}
