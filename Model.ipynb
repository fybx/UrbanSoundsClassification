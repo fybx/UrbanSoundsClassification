{
  "cells": [
    {
      "cell_type": "markdown",
      "id": "ad51450c-0fe2-44ef-8f9f-fef82e787008",
      "metadata": {
        "id": "ad51450c-0fe2-44ef-8f9f-fef82e787008"
      },
      "source": [
        "# UrbanSoundsClassification: AIYard"
      ]
    },
    {
      "cell_type": "markdown",
      "id": "b18c64d4-1bc2-4bf0-8b4a-2913126e13b5",
      "metadata": {
        "id": "b18c64d4-1bc2-4bf0-8b4a-2913126e13b5"
      },
      "source": [
        "Model.ipynb\n",
        "\n",
        "AIYard ekibi"
      ]
    },
    {
      "cell_type": "markdown",
      "id": "6451718f-3746-4b1b-bc66-71e36170ed89",
      "metadata": {
        "tags": [],
        "id": "6451718f-3746-4b1b-bc66-71e36170ed89"
      },
      "source": [
        "### 1. Kütüphanelerin içe aktarılması"
      ]
    },
    {
      "cell_type": "code",
      "execution_count": 4,
      "id": "a108dced-d4d0-4cc0-a0f7-53faa957d722",
      "metadata": {
        "id": "a108dced-d4d0-4cc0-a0f7-53faa957d722"
      },
      "outputs": [],
      "source": [
        "import os\n",
        "import numpy as np\n",
        "import tensorflow as tf"
      ]
    },
    {
      "cell_type": "markdown",
      "id": "b62efad5-e776-496b-8aed-59b8ec53f246",
      "metadata": {
        "jp-MarkdownHeadingCollapsed": true,
        "tags": [],
        "id": "b62efad5-e776-496b-8aed-59b8ec53f246"
      },
      "source": [
        "### 2. Önişlenmiş verisetlerinin içe aktarılması\n",
        "Önişleme defterini kullanarak `preproc` klasörü altında oluşturduğumuz `train`, `val` ve `test` klasörlerindeki spektrogramları okuyup demetler halinde kaydederek başlıyoruz.\n",
        "\n",
        "Google Colab ortamında isek Google Drive'ı mount ettikten sonra `preproc` klasörüne giden yolu tutan `preproc_folder`'ı değiştirmeliyiz."
      ]
    },
    {
      "cell_type": "code",
      "source": [
        "from google.colab import drive\n",
        "drive.mount('/content/GDrive/')"
      ],
      "metadata": {
        "id": "iy-GMx0Cqw1R",
        "outputId": "2b1e0686-3a98-4739-bb0b-03e89015b04a",
        "colab": {
          "base_uri": "https://localhost:8080/"
        }
      },
      "id": "iy-GMx0Cqw1R",
      "execution_count": 1,
      "outputs": [
        {
          "output_type": "stream",
          "name": "stdout",
          "text": [
            "Mounted at /content/GDrive/\n"
          ]
        }
      ]
    },
    {
      "cell_type": "code",
      "source": [
        "# DİKKAT: Yolun sonuna \"/\" karakteri eklemeyi unutma!\n",
        "# /home/ferit/repos/UrbanSoundsClassification/preproc/\n",
        "preproc_folder = \"/content/GDrive/MyDrive/preproc/\""
      ],
      "metadata": {
        "id": "V_6AlJKLq92_"
      },
      "id": "V_6AlJKLq92_",
      "execution_count": 2,
      "outputs": []
    },
    {
      "cell_type": "markdown",
      "id": "811040b9-2c68-4984-a05d-b4c308f6c3cf",
      "metadata": {
        "id": "811040b9-2c68-4984-a05d-b4c308f6c3cf"
      },
      "source": [
        "#### 2.1. `train` klasöründeki spektrogramların okunması\n",
        "\n",
        "X_train ve Y_train listelerini elde edeceğiz. Her iki listede 6900 tane eleman bulunmalı. \n",
        "\n",
        "X_train'e spektrogram verisi olan (64, 64) boyutlu NumPy dizilerini, Y_train'e ise karşılık gelen sınıfın numarasını ekleyeceğiz."
      ]
    },
    {
      "cell_type": "code",
      "execution_count": 5,
      "id": "c038f2ab-a525-46f6-a80c-0b390d0ac68c",
      "metadata": {
        "id": "c038f2ab-a525-46f6-a80c-0b390d0ac68c"
      },
      "outputs": [],
      "source": [
        "X_train = []\n",
        "Y_train = []\n",
        "for path, subdirs, files in os.walk(f\"{preproc_folder}train\"):\n",
        "    for name in files:\n",
        "        file = os.path.join(path, name)\n",
        "        spectrogram = np.load(file)\n",
        "        X_train.append(spectrogram)\n",
        "        Y_train.append(int(file.split('-')[2][0]))"
      ]
    },
    {
      "cell_type": "code",
      "execution_count": 6,
      "id": "a2d70039-d01c-4335-aff4-55674bdbe31b",
      "metadata": {
        "id": "a2d70039-d01c-4335-aff4-55674bdbe31b",
        "outputId": "4842dc30-c853-42d2-f164-29f177afeea8",
        "colab": {
          "base_uri": "https://localhost:8080/"
        }
      },
      "outputs": [
        {
          "output_type": "execute_result",
          "data": {
            "text/plain": [
              "False"
            ]
          },
          "metadata": {},
          "execution_count": 6
        }
      ],
      "source": [
        "len(X_train) == len(Y_train) == 6900"
      ]
    },
    {
      "cell_type": "markdown",
      "id": "416358f7-5e48-4149-a4fb-f5dee4a7045f",
      "metadata": {
        "id": "416358f7-5e48-4149-a4fb-f5dee4a7045f"
      },
      "source": [
        "#### 2.2. `val` klasöründeki spektrogramların okunması\n",
        "\n",
        "X_val ve Y_val listelerini elde edeceğiz. Her iki listede 900 tane eleman bulunmalı."
      ]
    },
    {
      "cell_type": "code",
      "execution_count": null,
      "id": "9161678b-d60c-4348-b7f9-9e2ce5a06402",
      "metadata": {
        "id": "9161678b-d60c-4348-b7f9-9e2ce5a06402"
      },
      "outputs": [],
      "source": [
        "X_val = []\n",
        "Y_val = []\n",
        "for path, subdirs, files in os.walk(f\"{preproc_folder}val\"):\n",
        "    for name in files:\n",
        "        file = os.path.join(path, name)\n",
        "        spectrogram = np.load(file)\n",
        "        X_val.append(spectrogram)\n",
        "        Y_val.append(int(file.split('-')[2][0]))"
      ]
    },
    {
      "cell_type": "code",
      "execution_count": null,
      "id": "00c42e2a-3d10-4c85-8c98-9fbbf10ad37f",
      "metadata": {
        "id": "00c42e2a-3d10-4c85-8c98-9fbbf10ad37f",
        "outputId": "4703a951-f7e1-4ef6-9b23-777e78f857d9"
      },
      "outputs": [
        {
          "data": {
            "text/plain": [
              "True"
            ]
          },
          "execution_count": 6,
          "metadata": {},
          "output_type": "execute_result"
        }
      ],
      "source": [
        "len(X_val) == len(Y_val) == 900"
      ]
    },
    {
      "cell_type": "markdown",
      "id": "3fe7f8f1-16ce-409b-bd93-67ab1dd7346a",
      "metadata": {
        "id": "3fe7f8f1-16ce-409b-bd93-67ab1dd7346a"
      },
      "source": [
        "#### 2.3. `test` klasöründeki spektrogramların okunması\n",
        "\n",
        "X_test ve Y_test listelerini elde edeceğiz. Her iki listede 935 tane eleman bulunmalı."
      ]
    },
    {
      "cell_type": "code",
      "execution_count": null,
      "id": "550d07a8-1a95-4b7a-91ca-26c08755f44e",
      "metadata": {
        "id": "550d07a8-1a95-4b7a-91ca-26c08755f44e"
      },
      "outputs": [],
      "source": [
        "X_test = []\n",
        "Y_test = []\n",
        "for path, subdirs, files in os.walk(f\"{preproc_folder}test\"):\n",
        "    for name in files:\n",
        "        file = os.path.join(path, name)\n",
        "        spectrogram = np.load(file)\n",
        "        X_test.append(spectrogram)\n",
        "        Y_test.append(int(file.split('-')[2][0]))"
      ]
    },
    {
      "cell_type": "code",
      "execution_count": null,
      "id": "6a4c534f-2b43-45f9-807b-949bae909ee9",
      "metadata": {
        "id": "6a4c534f-2b43-45f9-807b-949bae909ee9",
        "outputId": "8692917a-562d-4ed3-a660-d1be583dcccd"
      },
      "outputs": [
        {
          "data": {
            "text/plain": [
              "True"
            ]
          },
          "execution_count": 9,
          "metadata": {},
          "output_type": "execute_result"
        }
      ],
      "source": [
        "len(X_test) == len(Y_test) == 935"
      ]
    },
    {
      "cell_type": "markdown",
      "id": "5dacf480-f726-4263-b1ca-a16e483df98c",
      "metadata": {
        "id": "5dacf480-f726-4263-b1ca-a16e483df98c"
      },
      "source": [
        "### 3. Nöral ağın oluşturulması"
      ]
    },
    {
      "cell_type": "code",
      "execution_count": null,
      "id": "17c45519-f573-4afd-8448-d767abf7f7e2",
      "metadata": {
        "id": "17c45519-f573-4afd-8448-d767abf7f7e2"
      },
      "outputs": [],
      "source": []
    }
  ],
  "metadata": {
    "kernelspec": {
      "display_name": "Python 3 (ipykernel)",
      "language": "python",
      "name": "python3"
    },
    "language_info": {
      "codemirror_mode": {
        "name": "ipython",
        "version": 3
      },
      "file_extension": ".py",
      "mimetype": "text/x-python",
      "name": "python",
      "nbconvert_exporter": "python",
      "pygments_lexer": "ipython3",
      "version": "3.10.7"
    },
    "colab": {
      "provenance": []
    }
  },
  "nbformat": 4,
  "nbformat_minor": 5
}