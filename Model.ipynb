{
 "cells": [
  {
   "cell_type": "markdown",
   "id": "ad51450c-0fe2-44ef-8f9f-fef82e787008",
   "metadata": {},
   "source": [
    "# UrbanSoundsClassification: AIYard"
   ]
  },
  {
   "cell_type": "markdown",
   "id": "b18c64d4-1bc2-4bf0-8b4a-2913126e13b5",
   "metadata": {},
   "source": [
    "Model.ipynb\n",
    "\n",
    "Ferit Yiğit BALABAN"
   ]
  },
  {
   "cell_type": "code",
   "execution_count": null,
   "id": "ef0015f5-fd76-4753-8f09-a8c942397ee8",
   "metadata": {},
   "outputs": [],
   "source": []
  }
 ],
 "metadata": {
  "kernelspec": {
   "display_name": "Python 3 (ipykernel)",
   "language": "python",
   "name": "python3"
  },
  "language_info": {
   "codemirror_mode": {
    "name": "ipython",
    "version": 3
   },
   "file_extension": ".py",
   "mimetype": "text/x-python",
   "name": "python",
   "nbconvert_exporter": "python",
   "pygments_lexer": "ipython3",
   "version": "3.10.7"
  }
 },
 "nbformat": 4,
 "nbformat_minor": 5
}
